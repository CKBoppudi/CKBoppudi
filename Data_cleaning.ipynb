{
 "cells": [
  {
   "cell_type": "code",
   "execution_count": 110,
   "id": "0641186c",
   "metadata": {},
   "outputs": [],
   "source": [
    "import pandas as pd\n",
    "import regex as re"
   ]
  },
  {
   "cell_type": "markdown",
   "id": "8b8ae718",
   "metadata": {},
   "source": [
    "# ETR"
   ]
  },
  {
   "cell_type": "code",
   "execution_count": 111,
   "id": "3f09b4e8",
   "metadata": {},
   "outputs": [
    {
     "data": {
      "text/html": [
       "<div>\n",
       "<style scoped>\n",
       "    .dataframe tbody tr th:only-of-type {\n",
       "        vertical-align: middle;\n",
       "    }\n",
       "\n",
       "    .dataframe tbody tr th {\n",
       "        vertical-align: top;\n",
       "    }\n",
       "\n",
       "    .dataframe thead th {\n",
       "        text-align: right;\n",
       "    }\n",
       "</style>\n",
       "<table border=\"1\" class=\"dataframe\">\n",
       "  <thead>\n",
       "    <tr style=\"text-align: right;\">\n",
       "      <th></th>\n",
       "      <th>S. No.</th>\n",
       "      <th>Number</th>\n",
       "      <th>Customer</th>\n",
       "      <th>Agent</th>\n",
       "      <th>Booking Time</th>\n",
       "      <th>Internal (work notes)</th>\n",
       "      <th>cleaned_text</th>\n",
       "      <th>Classification</th>\n",
       "    </tr>\n",
       "  </thead>\n",
       "  <tbody>\n",
       "    <tr>\n",
       "      <th>0</th>\n",
       "      <td>1</td>\n",
       "      <td>CSP0205082059341</td>\n",
       "      <td>State Bank of India</td>\n",
       "      <td>tcl-8b2T06SnUa36zCKeDzQOytAH</td>\n",
       "      <td>8/5/2020 16:06</td>\n",
       "      <td>Esc || Link down from 6th Aug||CSP020508205934...</td>\n",
       "      <td>esc link down from 6th aug csp0205082059341 09...</td>\n",
       "      <td>ETR</td>\n",
       "    </tr>\n",
       "    <tr>\n",
       "      <th>1</th>\n",
       "      <td>2</td>\n",
       "      <td>CSR0219082047882</td>\n",
       "      <td>T-Systems Singapore Pte Limited</td>\n",
       "      <td>fmb-sdi-iam@telekom.de</td>\n",
       "      <td>8/20/2020 3:09</td>\n",
       "      <td>CSR0219082047882 || BHARTI TT ||27431230||T-Sy...</td>\n",
       "      <td>flt desk fri 8 21 2020 12:17 am dear customer,...</td>\n",
       "      <td>ETR</td>\n",
       "    </tr>\n",
       "  </tbody>\n",
       "</table>\n",
       "</div>"
      ],
      "text/plain": [
       "   S. No.            Number                         Customer  \\\n",
       "0       1  CSP0205082059341              State Bank of India   \n",
       "1       2  CSR0219082047882  T-Systems Singapore Pte Limited   \n",
       "\n",
       "                          Agent    Booking Time  \\\n",
       "0  tcl-8b2T06SnUa36zCKeDzQOytAH  8/5/2020 16:06   \n",
       "1        fmb-sdi-iam@telekom.de  8/20/2020 3:09   \n",
       "\n",
       "                               Internal (work notes)  \\\n",
       "0  Esc || Link down from 6th Aug||CSP020508205934...   \n",
       "1  CSR0219082047882 || BHARTI TT ||27431230||T-Sy...   \n",
       "\n",
       "                                        cleaned_text Classification  \n",
       "0  esc link down from 6th aug csp0205082059341 09...            ETR  \n",
       "1  flt desk fri 8 21 2020 12:17 am dear customer,...            ETR  "
      ]
     },
     "execution_count": 111,
     "metadata": {},
     "output_type": "execute_result"
    }
   ],
   "source": [
    "data_etr = pd.read_csv(r\"D:\\data_sets\\ETR.csv\" , encoding = \"latin-1\")\n",
    "data_etr.head(2)"
   ]
  },
  {
   "cell_type": "code",
   "execution_count": 112,
   "id": "76818110",
   "metadata": {},
   "outputs": [
    {
     "data": {
      "text/plain": [
       "(1755, 8)"
      ]
     },
     "execution_count": 112,
     "metadata": {},
     "output_type": "execute_result"
    }
   ],
   "source": [
    "data_etr.shape"
   ]
  },
  {
   "cell_type": "code",
   "execution_count": 113,
   "id": "7205b8e2",
   "metadata": {},
   "outputs": [],
   "source": [
    "data_etr.drop([\"Number\" , \"Customer\" , \"Agent\" , \"Booking Time\" , \"Classification\" , \"S. No.\" , \"cleaned_text\"] , axis = 1 , inplace = True) "
   ]
  },
  {
   "cell_type": "code",
   "execution_count": 114,
   "id": "c1e4e9b4",
   "metadata": {},
   "outputs": [],
   "source": [
    "data_etr = data_etr.dropna(subset=['Internal (work notes)'])         "
   ]
  },
  {
   "cell_type": "code",
   "execution_count": 115,
   "id": "18926014",
   "metadata": {},
   "outputs": [],
   "source": [
    "data_etr['cleaned_text'] = data_etr['Internal (work notes)'].str.extract(r'(hi [\\s\\S]*?(?=(?:Thanks|Regards|Best|Warm To get instant))|Dear[\\s\\S]*?(?=(?:Thanks|Regards|Best|Warm|To get instant))|Dear[\\s\\S]*|HI [\\s\\S]*?(?=(?:Thanks|Regards|Best|To get instant))|Hi[\\s\\S]*?(?=(?:Thanks|Regards|Best|To get instant|ADMIN)))')\n",
    "\n",
    "def clean_text(text):\n",
    "    if isinstance(text, str):\n",
    "        return ' '.join(text.split())\n",
    "    else:\n",
    "        return text\n",
    "data_etr[\"cleaned_text\"] = data_etr[\"cleaned_text\"].apply(clean_text)"
   ]
  },
  {
   "cell_type": "code",
   "execution_count": 116,
   "id": "0910177b",
   "metadata": {},
   "outputs": [
    {
     "data": {
      "text/html": [
       "<div>\n",
       "<style scoped>\n",
       "    .dataframe tbody tr th:only-of-type {\n",
       "        vertical-align: middle;\n",
       "    }\n",
       "\n",
       "    .dataframe tbody tr th {\n",
       "        vertical-align: top;\n",
       "    }\n",
       "\n",
       "    .dataframe thead th {\n",
       "        text-align: right;\n",
       "    }\n",
       "</style>\n",
       "<table border=\"1\" class=\"dataframe\">\n",
       "  <thead>\n",
       "    <tr style=\"text-align: right;\">\n",
       "      <th></th>\n",
       "      <th>Internal (work notes)</th>\n",
       "      <th>cleaned_text</th>\n",
       "    </tr>\n",
       "  </thead>\n",
       "  <tbody>\n",
       "    <tr>\n",
       "      <th>467</th>\n",
       "      <td>Incident ID\\t \\nService Request Number\\t CS076...</td>\n",
       "      <td>NaN</td>\n",
       "    </tr>\n",
       "    <tr>\n",
       "      <th>468</th>\n",
       "      <td>Incident ID\\t \\nService Request Number\\t CS078...</td>\n",
       "      <td>Dear Customer We spoke with customer Salman-73...</td>\n",
       "    </tr>\n",
       "    <tr>\n",
       "      <th>469</th>\n",
       "      <td>Incident ID\\t \\nService Request Number\\t CS079...</td>\n",
       "      <td>Dear Customer Greetings from Sify We have chec...</td>\n",
       "    </tr>\n",
       "    <tr>\n",
       "      <th>470</th>\n",
       "      <td>Incident ID\\t \\nService Request Number\\t CS081...</td>\n",
       "      <td>NaN</td>\n",
       "    </tr>\n",
       "    <tr>\n",
       "      <th>471</th>\n",
       "      <td>Incident ID\\t INC0843668\\nService Request Numb...</td>\n",
       "      <td>NaN</td>\n",
       "    </tr>\n",
       "    <tr>\n",
       "      <th>472</th>\n",
       "      <td>Incident ID\\t INC0843668\\nService Request Numb...</td>\n",
       "      <td>NaN</td>\n",
       "    </tr>\n",
       "    <tr>\n",
       "      <th>473</th>\n",
       "      <td>Incident ID\\t INC0843668\\nService Request Numb...</td>\n",
       "      <td>NaN</td>\n",
       "    </tr>\n",
       "    <tr>\n",
       "      <th>474</th>\n",
       "      <td>Incident ID\\t INC0848529\\nService Request Numb...</td>\n",
       "      <td>NaN</td>\n",
       "    </tr>\n",
       "  </tbody>\n",
       "</table>\n",
       "</div>"
      ],
      "text/plain": [
       "                                 Internal (work notes)  \\\n",
       "467  Incident ID\\t \\nService Request Number\\t CS076...   \n",
       "468  Incident ID\\t \\nService Request Number\\t CS078...   \n",
       "469  Incident ID\\t \\nService Request Number\\t CS079...   \n",
       "470  Incident ID\\t \\nService Request Number\\t CS081...   \n",
       "471  Incident ID\\t INC0843668\\nService Request Numb...   \n",
       "472  Incident ID\\t INC0843668\\nService Request Numb...   \n",
       "473  Incident ID\\t INC0843668\\nService Request Numb...   \n",
       "474  Incident ID\\t INC0848529\\nService Request Numb...   \n",
       "\n",
       "                                          cleaned_text  \n",
       "467                                                NaN  \n",
       "468  Dear Customer We spoke with customer Salman-73...  \n",
       "469  Dear Customer Greetings from Sify We have chec...  \n",
       "470                                                NaN  \n",
       "471                                                NaN  \n",
       "472                                                NaN  \n",
       "473                                                NaN  \n",
       "474                                                NaN  "
      ]
     },
     "execution_count": 116,
     "metadata": {},
     "output_type": "execute_result"
    }
   ],
   "source": [
    "data_etr[467:475]"
   ]
  },
  {
   "cell_type": "code",
   "execution_count": 117,
   "id": "03818f7c",
   "metadata": {},
   "outputs": [],
   "source": [
    "data_etr.drop([467 , 469 , 470 , 471 , 472 , 473 , 474] , axis = 0 , inplace = True)"
   ]
  },
  {
   "cell_type": "code",
   "execution_count": 118,
   "id": "867f2174",
   "metadata": {},
   "outputs": [],
   "source": [
    "data_etr[\"cleaned_text\"].fillna(data_etr[\"Internal (work notes)\"] , inplace = True)"
   ]
  },
  {
   "cell_type": "code",
   "execution_count": 119,
   "id": "0730269a",
   "metadata": {},
   "outputs": [
    {
     "data": {
      "text/plain": [
       "180"
      ]
     },
     "execution_count": 119,
     "metadata": {},
     "output_type": "execute_result"
    }
   ],
   "source": [
    "len(data_etr[\"cleaned_text\"][0])"
   ]
  },
  {
   "cell_type": "code",
   "execution_count": 120,
   "id": "3fc6d22e",
   "metadata": {},
   "outputs": [
    {
     "data": {
      "text/plain": [
       "Internal (work notes)    0\n",
       "cleaned_text             0\n",
       "dtype: int64"
      ]
     },
     "execution_count": 120,
     "metadata": {},
     "output_type": "execute_result"
    }
   ],
   "source": [
    "data_etr.isna().sum()"
   ]
  },
  {
   "cell_type": "code",
   "execution_count": 121,
   "id": "1c40805f",
   "metadata": {},
   "outputs": [],
   "source": [
    "data_etr[\"sentiment\"] = 0\n",
    "data_etr[\"label\"] = \"ETR\""
   ]
  },
  {
   "cell_type": "code",
   "execution_count": 122,
   "id": "51b43ee8",
   "metadata": {},
   "outputs": [],
   "source": [
    "data_etr.to_csv(\"data_etr.csv\")"
   ]
  },
  {
   "cell_type": "markdown",
   "id": "8d91898e",
   "metadata": {},
   "source": [
    "# FE"
   ]
  },
  {
   "cell_type": "code",
   "execution_count": 123,
   "id": "19114f7b",
   "metadata": {},
   "outputs": [],
   "source": [
    "data_fe = pd.read_csv(r\"D:\\data_sets\\FE.csv\" , encoding = \"latin-1\")"
   ]
  },
  {
   "cell_type": "code",
   "execution_count": 124,
   "id": "1a8aea0f",
   "metadata": {},
   "outputs": [],
   "source": [
    "data_fe.drop([\"Number\" , \"Customer\" , \"Agent\" , \"Booking Time\" , \"Classification\" , \"Sr No\" , \"cleaned_text\" , \"Subclass 1\" , \"Subclass 2\" , \"Subclass 3\" , \"Fault\" , \"Remarks\" , \"Unnamed: 13\" , \"Unnamed: 14\"] , axis = 1 , inplace = True) "
   ]
  },
  {
   "cell_type": "code",
   "execution_count": 125,
   "id": "fb4dd906",
   "metadata": {},
   "outputs": [
    {
     "data": {
      "text/plain": [
       "(1245, 1)"
      ]
     },
     "execution_count": 125,
     "metadata": {},
     "output_type": "execute_result"
    }
   ],
   "source": [
    "data_fe = data_fe.dropna(subset=['Internal (work notes)'])\n",
    "data_fe.shape"
   ]
  },
  {
   "cell_type": "code",
   "execution_count": 126,
   "id": "64ec8f76",
   "metadata": {},
   "outputs": [],
   "source": [
    "data_fe['cleaned_text'] = data_fe['Internal (work notes)'].str.extract(r'(dear[\\s\\S]*?(?=(?:Thanks|Regards|Best|Warm))|Dear[\\s\\S]*?(?=(?:Thanks|Regards|Best|Warm))|Dear[\\s\\S]*|HI [\\s\\S]*?(?=(?:Thanks|Regards|Best))|Hi [\\s\\S]*|Hi [\\s\\S]*?(?=(?:Thanks|Regards|Best))|hi [\\s\\S]*?(?=(?:Thanks|Regards|Best|Warm))|Team[\\s\\S]*?(?=(?:Thanks|Regards|Best|Warm)))')\n",
    "def clean_text(text):\n",
    "    if isinstance(text, str):\n",
    "        return ' '.join(text.split())\n",
    "    else:\n",
    "        return text\n",
    "data_fe[\"cleaned_text\"] = data_fe[\"cleaned_text\"].apply(clean_text)\n",
    "\n"
   ]
  },
  {
   "cell_type": "code",
   "execution_count": 127,
   "id": "9b4b6965",
   "metadata": {},
   "outputs": [],
   "source": [
    "data_fe.drop([26,48,301,348] , axis = 0 , inplace = True)"
   ]
  },
  {
   "cell_type": "code",
   "execution_count": 128,
   "id": "f68004db",
   "metadata": {},
   "outputs": [],
   "source": [
    "data_fe[\"cleaned_text\"].fillna(data_fe[\"Internal (work notes)\"] , inplace = True)"
   ]
  },
  {
   "cell_type": "code",
   "execution_count": 129,
   "id": "dde76f5d",
   "metadata": {},
   "outputs": [
    {
     "data": {
      "text/plain": [
       "0"
      ]
     },
     "execution_count": 129,
     "metadata": {},
     "output_type": "execute_result"
    }
   ],
   "source": [
    "data_fe[\"cleaned_text\"].isna().sum()"
   ]
  },
  {
   "cell_type": "code",
   "execution_count": 130,
   "id": "f3be4f50",
   "metadata": {},
   "outputs": [
    {
     "data": {
      "text/plain": [
       "Internal (work notes)    0\n",
       "cleaned_text             0\n",
       "dtype: int64"
      ]
     },
     "execution_count": 130,
     "metadata": {},
     "output_type": "execute_result"
    }
   ],
   "source": [
    "data_fe.isna().sum()"
   ]
  },
  {
   "cell_type": "code",
   "execution_count": 131,
   "id": "7b5b1a20",
   "metadata": {},
   "outputs": [],
   "source": [
    "data_fe[\"sentiment\"] = 1\n",
    "data_fe[\"label\"] = \"FE\""
   ]
  },
  {
   "cell_type": "code",
   "execution_count": 132,
   "id": "f847ba65",
   "metadata": {},
   "outputs": [],
   "source": [
    "data_fe.to_csv(\"data_fe.csv\")"
   ]
  },
  {
   "cell_type": "markdown",
   "id": "a546ed2f",
   "metadata": {},
   "source": [
    "# RFO"
   ]
  },
  {
   "cell_type": "code",
   "execution_count": 133,
   "id": "70b9d72e",
   "metadata": {},
   "outputs": [
    {
     "name": "stdout",
     "output_type": "stream",
     "text": [
      "(6925, 18)\n",
      "6925\n"
     ]
    }
   ],
   "source": [
    "data_rfo = pd.read_csv(r\"D:\\data_sets\\RFO.csv\" , encoding = \"latin-1\")\n",
    "print(data_rfo.shape)\n",
    "print(data_rfo[\"cleaned_text\"].isna().sum())"
   ]
  },
  {
   "cell_type": "code",
   "execution_count": 134,
   "id": "6ccccede",
   "metadata": {},
   "outputs": [
    {
     "data": {
      "text/html": [
       "<div>\n",
       "<style scoped>\n",
       "    .dataframe tbody tr th:only-of-type {\n",
       "        vertical-align: middle;\n",
       "    }\n",
       "\n",
       "    .dataframe tbody tr th {\n",
       "        vertical-align: top;\n",
       "    }\n",
       "\n",
       "    .dataframe thead th {\n",
       "        text-align: right;\n",
       "    }\n",
       "</style>\n",
       "<table border=\"1\" class=\"dataframe\">\n",
       "  <thead>\n",
       "    <tr style=\"text-align: right;\">\n",
       "      <th></th>\n",
       "      <th>S. No.</th>\n",
       "      <th>Number</th>\n",
       "      <th>Customer</th>\n",
       "      <th>Agent</th>\n",
       "      <th>Booking Time</th>\n",
       "      <th>Internal (work notes)</th>\n",
       "      <th>cleaned_text</th>\n",
       "      <th>Classification</th>\n",
       "      <th>T1</th>\n",
       "      <th>T2</th>\n",
       "      <th>T3</th>\n",
       "      <th>T4</th>\n",
       "      <th>T5</th>\n",
       "      <th>Resolution comment</th>\n",
       "      <th>Unnamed: 14</th>\n",
       "      <th>Unnamed: 15</th>\n",
       "      <th>Unnamed: 16</th>\n",
       "      <th>Unnamed: 17</th>\n",
       "    </tr>\n",
       "  </thead>\n",
       "  <tbody>\n",
       "    <tr>\n",
       "      <th>0</th>\n",
       "      <td>1</td>\n",
       "      <td>CSP0202112018975</td>\n",
       "      <td>NaN</td>\n",
       "      <td>NaN</td>\n",
       "      <td>NaN</td>\n",
       "      <td>Reference TT: CSTASK0082670\\nReason for outage...</td>\n",
       "      <td>NaN</td>\n",
       "      <td>RFO</td>\n",
       "      <td>Tata Communications - 3rd Party</td>\n",
       "      <td>Access (India)-Wireline</td>\n",
       "      <td>Fiber Cut (Ring Failure)</td>\n",
       "      <td>NaN</td>\n",
       "      <td>Bharti</td>\n",
       "      <td>Regret for the inconvenience caused due to out...</td>\n",
       "      <td>NaN</td>\n",
       "      <td>NaN</td>\n",
       "      <td>NaN</td>\n",
       "      <td>NaN</td>\n",
       "    </tr>\n",
       "    <tr>\n",
       "      <th>1</th>\n",
       "      <td>2</td>\n",
       "      <td>CSR0604112046447</td>\n",
       "      <td>NaN</td>\n",
       "      <td>NaN</td>\n",
       "      <td>NaN</td>\n",
       "      <td>Reference TT: CSTASK0083916\\nReason for outage...</td>\n",
       "      <td>NaN</td>\n",
       "      <td>RFO</td>\n",
       "      <td>Tata Communications - 3rd Party</td>\n",
       "      <td>Access (India)-Wireline</td>\n",
       "      <td>Fiber Cut (Linear )</td>\n",
       "      <td>NaN</td>\n",
       "      <td>Bharti</td>\n",
       "      <td>The link was affected due to the linear fiber ...</td>\n",
       "      <td>NaN</td>\n",
       "      <td>NaN</td>\n",
       "      <td>NaN</td>\n",
       "      <td>NaN</td>\n",
       "    </tr>\n",
       "  </tbody>\n",
       "</table>\n",
       "</div>"
      ],
      "text/plain": [
       "   S. No.            Number Customer Agent Booking Time  \\\n",
       "0       1  CSP0202112018975      NaN   NaN          NaN   \n",
       "1       2  CSR0604112046447      NaN   NaN          NaN   \n",
       "\n",
       "                               Internal (work notes)  cleaned_text  \\\n",
       "0  Reference TT: CSTASK0082670\\nReason for outage...           NaN   \n",
       "1  Reference TT: CSTASK0083916\\nReason for outage...           NaN   \n",
       "\n",
       "  Classification                               T1                       T2  \\\n",
       "0            RFO  Tata Communications - 3rd Party  Access (India)-Wireline   \n",
       "1            RFO  Tata Communications - 3rd Party  Access (India)-Wireline   \n",
       "\n",
       "                         T3   T4      T5  \\\n",
       "0  Fiber Cut (Ring Failure)  NaN  Bharti   \n",
       "1       Fiber Cut (Linear )  NaN  Bharti   \n",
       "\n",
       "                                  Resolution comment  Unnamed: 14  \\\n",
       "0  Regret for the inconvenience caused due to out...          NaN   \n",
       "1  The link was affected due to the linear fiber ...          NaN   \n",
       "\n",
       "   Unnamed: 15  Unnamed: 16  Unnamed: 17  \n",
       "0          NaN          NaN          NaN  \n",
       "1          NaN          NaN          NaN  "
      ]
     },
     "execution_count": 134,
     "metadata": {},
     "output_type": "execute_result"
    }
   ],
   "source": [
    "data_rfo.head(2)"
   ]
  },
  {
   "cell_type": "code",
   "execution_count": 135,
   "id": "80732c11",
   "metadata": {},
   "outputs": [
    {
     "data": {
      "text/html": [
       "<div>\n",
       "<style scoped>\n",
       "    .dataframe tbody tr th:only-of-type {\n",
       "        vertical-align: middle;\n",
       "    }\n",
       "\n",
       "    .dataframe tbody tr th {\n",
       "        vertical-align: top;\n",
       "    }\n",
       "\n",
       "    .dataframe thead th {\n",
       "        text-align: right;\n",
       "    }\n",
       "</style>\n",
       "<table border=\"1\" class=\"dataframe\">\n",
       "  <thead>\n",
       "    <tr style=\"text-align: right;\">\n",
       "      <th></th>\n",
       "      <th>Internal (work notes)</th>\n",
       "    </tr>\n",
       "  </thead>\n",
       "  <tbody>\n",
       "    <tr>\n",
       "      <th>0</th>\n",
       "      <td>Reference TT: CSTASK0082670\\nReason for outage...</td>\n",
       "    </tr>\n",
       "    <tr>\n",
       "      <th>1</th>\n",
       "      <td>Reference TT: CSTASK0083916\\nReason for outage...</td>\n",
       "    </tr>\n",
       "  </tbody>\n",
       "</table>\n",
       "</div>"
      ],
      "text/plain": [
       "                               Internal (work notes)\n",
       "0  Reference TT: CSTASK0082670\\nReason for outage...\n",
       "1  Reference TT: CSTASK0083916\\nReason for outage..."
      ]
     },
     "execution_count": 135,
     "metadata": {},
     "output_type": "execute_result"
    }
   ],
   "source": [
    "data_rfo.drop([\"Number\" , \"Customer\" , \"Agent\" , \"Booking Time\" , \"Classification\" , \"S. No.\" , \"cleaned_text\" , \"T1\" , \"T2\" , \"T3\" , \"T4\" , \"T5\" , \"Resolution comment\" , \"Unnamed: 14\" , \"Unnamed: 15\" , \"Unnamed: 16\" , \"Unnamed: 17\"] , axis = 1 , inplace = True) \n",
    "\n",
    "data_rfo.head(2)"
   ]
  },
  {
   "cell_type": "code",
   "execution_count": 136,
   "id": "48b2e202",
   "metadata": {},
   "outputs": [],
   "source": [
    "data_rfo['cleaned_text'] = data_rfo[\"Internal (work notes)\"].str.extract(r'(hi [\\s\\S]*?(?=(?:Thanks|Regards|Best|Warm To get instant))|Dear[\\s\\S]*?(?=(?:Thanks|Regards|Best|Warm|To get instant))|Dear[\\s\\S]*|RFO[\\s\\S]*?(?=(?:Thanks|Regards|Best|To get instant))|Hi[\\s\\S]*?(?=(?:Thanks|Regards|Best|To get instant)))')\n",
    "\n",
    "def clean_text(text):\n",
    "    if isinstance(text, str):\n",
    "        return ' '.join(text.split())\n",
    "    else:\n",
    "        return text\n",
    "data_rfo[\"cleaned_text\"] = data_rfo[\"cleaned_text\"].apply(clean_text)\n",
    "\n"
   ]
  },
  {
   "cell_type": "code",
   "execution_count": 137,
   "id": "0cf5fe1e",
   "metadata": {},
   "outputs": [],
   "source": [
    "data_rfo[\"cleaned_text\"].fillna(data_rfo[\"Internal (work notes)\"] , inplace = True)"
   ]
  },
  {
   "cell_type": "code",
   "execution_count": 138,
   "id": "1f1533c3",
   "metadata": {},
   "outputs": [
    {
     "data": {
      "text/plain": [
       "0"
      ]
     },
     "execution_count": 138,
     "metadata": {},
     "output_type": "execute_result"
    }
   ],
   "source": [
    "data_rfo[\"cleaned_text\"].isna().sum()"
   ]
  },
  {
   "cell_type": "code",
   "execution_count": 139,
   "id": "fd32d25e",
   "metadata": {},
   "outputs": [],
   "source": [
    "data_rfo[\"sentiment\"] = 2\n",
    "data_rfo[\"label\"] = \"RFO\""
   ]
  },
  {
   "cell_type": "code",
   "execution_count": 140,
   "id": "cb43f8a3",
   "metadata": {},
   "outputs": [],
   "source": [
    "data_rfo.to_csv(\"data_rfo.csv\")"
   ]
  },
  {
   "cell_type": "markdown",
   "id": "00dd811c",
   "metadata": {},
   "source": [
    "# SR"
   ]
  },
  {
   "cell_type": "code",
   "execution_count": 141,
   "id": "8c9875ae",
   "metadata": {},
   "outputs": [
    {
     "data": {
      "text/html": [
       "<div>\n",
       "<style scoped>\n",
       "    .dataframe tbody tr th:only-of-type {\n",
       "        vertical-align: middle;\n",
       "    }\n",
       "\n",
       "    .dataframe tbody tr th {\n",
       "        vertical-align: top;\n",
       "    }\n",
       "\n",
       "    .dataframe thead th {\n",
       "        text-align: right;\n",
       "    }\n",
       "</style>\n",
       "<table border=\"1\" class=\"dataframe\">\n",
       "  <thead>\n",
       "    <tr style=\"text-align: right;\">\n",
       "      <th></th>\n",
       "      <th>Sr No</th>\n",
       "      <th>Number</th>\n",
       "      <th>Customer</th>\n",
       "      <th>Agent</th>\n",
       "      <th>Booking Time</th>\n",
       "      <th>Internal (work notes)</th>\n",
       "      <th>cleaned_text</th>\n",
       "      <th>Classification</th>\n",
       "      <th>Remarks</th>\n",
       "      <th>Remarks 2</th>\n",
       "    </tr>\n",
       "  </thead>\n",
       "  <tbody>\n",
       "    <tr>\n",
       "      <th>0</th>\n",
       "      <td>1</td>\n",
       "      <td>CSR0203082029549</td>\n",
       "      <td>Axis Bank Limited</td>\n",
       "      <td>Axi21</td>\n",
       "      <td>8/3/2020 12:20</td>\n",
       "      <td>03/08/2020 04:43:59 PM\\n\\nKarthik thangavelu N...</td>\n",
       "      <td>karthik thangavelu nadar dear satish, as discu...</td>\n",
       "      <td>Service Restored</td>\n",
       "      <td>Contains RFO</td>\n",
       "      <td>NaN</td>\n",
       "    </tr>\n",
       "    <tr>\n",
       "      <th>1</th>\n",
       "      <td>2</td>\n",
       "      <td>CSR0607082083866</td>\n",
       "      <td>Reliance General Insurance Company Limited</td>\n",
       "      <td>rcl.network@rcap.co.in</td>\n",
       "      <td>8/7/2020 12:30</td>\n",
       "      <td>07/08/2020 04:30:24 PM\\n\\nPiyush Pratap Paland...</td>\n",
       "      <td>piyush pratap palande checked and found servic...</td>\n",
       "      <td>Service Restored</td>\n",
       "      <td>Contains RFO</td>\n",
       "      <td>NaN</td>\n",
       "    </tr>\n",
       "  </tbody>\n",
       "</table>\n",
       "</div>"
      ],
      "text/plain": [
       "   Sr No            Number                                    Customer  \\\n",
       "0      1  CSR0203082029549                           Axis Bank Limited   \n",
       "1      2  CSR0607082083866  Reliance General Insurance Company Limited   \n",
       "\n",
       "                    Agent    Booking Time  \\\n",
       "0                   Axi21  8/3/2020 12:20   \n",
       "1  rcl.network@rcap.co.in  8/7/2020 12:30   \n",
       "\n",
       "                               Internal (work notes)  \\\n",
       "0  03/08/2020 04:43:59 PM\\n\\nKarthik thangavelu N...   \n",
       "1  07/08/2020 04:30:24 PM\\n\\nPiyush Pratap Paland...   \n",
       "\n",
       "                                        cleaned_text    Classification  \\\n",
       "0  karthik thangavelu nadar dear satish, as discu...  Service Restored   \n",
       "1  piyush pratap palande checked and found servic...  Service Restored   \n",
       "\n",
       "        Remarks Remarks 2  \n",
       "0  Contains RFO       NaN  \n",
       "1  Contains RFO       NaN  "
      ]
     },
     "execution_count": 141,
     "metadata": {},
     "output_type": "execute_result"
    }
   ],
   "source": [
    "data_sr = pd.read_csv(r\"D:\\data_sets\\SR.csv\" , encoding = \"latin-1\")\n",
    "data_sr.head(2)"
   ]
  },
  {
   "cell_type": "code",
   "execution_count": 143,
   "id": "471ecbac",
   "metadata": {},
   "outputs": [],
   "source": [
    "data_sr.drop([\"Sr No\" , \"Number\" , \"Customer\" , \"Agent\" , \"Booking Time\" , \"cleaned_text\" , \"Classification\" , \"Remarks\" , \"Remarks 2\"] , axis = 1 , inplace = True)\n",
    "\n"
   ]
  },
  {
   "cell_type": "code",
   "execution_count": 144,
   "id": "96c9b1e8",
   "metadata": {},
   "outputs": [
    {
     "data": {
      "text/html": [
       "<div>\n",
       "<style scoped>\n",
       "    .dataframe tbody tr th:only-of-type {\n",
       "        vertical-align: middle;\n",
       "    }\n",
       "\n",
       "    .dataframe tbody tr th {\n",
       "        vertical-align: top;\n",
       "    }\n",
       "\n",
       "    .dataframe thead th {\n",
       "        text-align: right;\n",
       "    }\n",
       "</style>\n",
       "<table border=\"1\" class=\"dataframe\">\n",
       "  <thead>\n",
       "    <tr style=\"text-align: right;\">\n",
       "      <th></th>\n",
       "      <th>Internal (work notes)</th>\n",
       "    </tr>\n",
       "  </thead>\n",
       "  <tbody>\n",
       "    <tr>\n",
       "      <th>0</th>\n",
       "      <td>03/08/2020 04:43:59 PM\\n\\nKarthik thangavelu N...</td>\n",
       "    </tr>\n",
       "    <tr>\n",
       "      <th>1</th>\n",
       "      <td>07/08/2020 04:30:24 PM\\n\\nPiyush Pratap Paland...</td>\n",
       "    </tr>\n",
       "  </tbody>\n",
       "</table>\n",
       "</div>"
      ],
      "text/plain": [
       "                               Internal (work notes)\n",
       "0  03/08/2020 04:43:59 PM\\n\\nKarthik thangavelu N...\n",
       "1  07/08/2020 04:30:24 PM\\n\\nPiyush Pratap Paland..."
      ]
     },
     "execution_count": 144,
     "metadata": {},
     "output_type": "execute_result"
    }
   ],
   "source": [
    "data_sr.head(2)"
   ]
  },
  {
   "cell_type": "code",
   "execution_count": 145,
   "id": "4dca6d69",
   "metadata": {},
   "outputs": [
    {
     "data": {
      "text/plain": [
       "(2012, 1)"
      ]
     },
     "execution_count": 145,
     "metadata": {},
     "output_type": "execute_result"
    }
   ],
   "source": [
    "data_sr.shape"
   ]
  },
  {
   "cell_type": "code",
   "execution_count": 146,
   "id": "75efb784",
   "metadata": {},
   "outputs": [],
   "source": [
    "data_sr['cleaned_text'] = data_sr[\"Internal (work notes)\"].str.extract(r'(Dear [\\s\\S]*?(?=(?:timeout))|Dear[\\s\\S]*|\\d{2}\\/\\d{2}\\/\\d{4}\\s\\d{2}:\\d{2}:\\d{2}.(?:AM|PM)[\\s\\S]*?(?=(?:timeout))|\\d{2}\\/\\d{2}\\/\\d{4}\\s\\d{2}:\\d{2}:\\d{2}.(?:AM|PM)[\\s\\S]*|Hi[\\s\\S]*?(?=(?:timeout)))')\n",
    "def clean_text(text):\n",
    "    if isinstance(text, str):\n",
    "        return ' '.join(text.split())\n",
    "    else:\n",
    "        return text\n",
    "data_sr[\"cleaned_text\"] = data_sr[\"cleaned_text\"].apply(clean_text)\n"
   ]
  },
  {
   "cell_type": "code",
   "execution_count": 147,
   "id": "806124d5",
   "metadata": {},
   "outputs": [],
   "source": [
    "data_sr = data_sr.dropna()"
   ]
  },
  {
   "cell_type": "code",
   "execution_count": 148,
   "id": "273ffc84",
   "metadata": {},
   "outputs": [
    {
     "data": {
      "text/plain": [
       "Internal (work notes)    0\n",
       "cleaned_text             0\n",
       "dtype: int64"
      ]
     },
     "execution_count": 148,
     "metadata": {},
     "output_type": "execute_result"
    }
   ],
   "source": [
    "data_sr.isna().sum()"
   ]
  },
  {
   "cell_type": "code",
   "execution_count": 149,
   "id": "130405bf",
   "metadata": {},
   "outputs": [
    {
     "name": "stderr",
     "output_type": "stream",
     "text": [
      "C:\\Users\\admin\\AppData\\Local\\Temp\\ipykernel_9572\\2404597905.py:1: SettingWithCopyWarning: \n",
      "A value is trying to be set on a copy of a slice from a DataFrame.\n",
      "Try using .loc[row_indexer,col_indexer] = value instead\n",
      "\n",
      "See the caveats in the documentation: https://pandas.pydata.org/pandas-docs/stable/user_guide/indexing.html#returning-a-view-versus-a-copy\n",
      "  data_sr[\"sentiment\"] = 3\n",
      "C:\\Users\\admin\\AppData\\Local\\Temp\\ipykernel_9572\\2404597905.py:2: SettingWithCopyWarning: \n",
      "A value is trying to be set on a copy of a slice from a DataFrame.\n",
      "Try using .loc[row_indexer,col_indexer] = value instead\n",
      "\n",
      "See the caveats in the documentation: https://pandas.pydata.org/pandas-docs/stable/user_guide/indexing.html#returning-a-view-versus-a-copy\n",
      "  data_sr[\"label\"] = \"SR\"\n"
     ]
    }
   ],
   "source": [
    "data_sr[\"sentiment\"] = 3\n",
    "data_sr[\"label\"] = \"SR\""
   ]
  },
  {
   "cell_type": "code",
   "execution_count": 150,
   "id": "1dfa1b27",
   "metadata": {},
   "outputs": [],
   "source": [
    "data_sr.to_csv(\"data_sr.csv\")   "
   ]
  },
  {
   "cell_type": "code",
   "execution_count": 167,
   "id": "eb9cd01b",
   "metadata": {},
   "outputs": [],
   "source": [
    "data_sr = pd.read_csv(r\"D:\\data_sets\\data_sr.csv\")"
   ]
  },
  {
   "cell_type": "markdown",
   "id": "f6c41c32",
   "metadata": {},
   "source": [
    "# UPDATES"
   ]
  },
  {
   "cell_type": "code",
   "execution_count": 168,
   "id": "58208444",
   "metadata": {},
   "outputs": [
    {
     "data": {
      "text/html": [
       "<div>\n",
       "<style scoped>\n",
       "    .dataframe tbody tr th:only-of-type {\n",
       "        vertical-align: middle;\n",
       "    }\n",
       "\n",
       "    .dataframe tbody tr th {\n",
       "        vertical-align: top;\n",
       "    }\n",
       "\n",
       "    .dataframe thead th {\n",
       "        text-align: right;\n",
       "    }\n",
       "</style>\n",
       "<table border=\"1\" class=\"dataframe\">\n",
       "  <thead>\n",
       "    <tr style=\"text-align: right;\">\n",
       "      <th></th>\n",
       "      <th>S. No.</th>\n",
       "      <th>Number</th>\n",
       "      <th>Customer</th>\n",
       "      <th>Agent</th>\n",
       "      <th>Booking Time</th>\n",
       "      <th>Internal (work notes)</th>\n",
       "      <th>cleaned_text</th>\n",
       "      <th>Classification</th>\n",
       "      <th>Sub class 1</th>\n",
       "      <th>Sub class 2</th>\n",
       "      <th>Sub class 3</th>\n",
       "      <th>Fault</th>\n",
       "      <th>Remarks</th>\n",
       "    </tr>\n",
       "  </thead>\n",
       "  <tbody>\n",
       "    <tr>\n",
       "      <th>0</th>\n",
       "      <td>1</td>\n",
       "      <td>CSR06260820141020</td>\n",
       "      <td>Bajaj Electricals Limited</td>\n",
       "      <td>guest</td>\n",
       "      <td>2020-08-26 15:48:40</td>\n",
       "      <td>Work notes added on Task number [code]&lt;a href=...</td>\n",
       "      <td>ap rssi: ssid1: 5 50:fe:f2:02:70:44 10.11.9.1...</td>\n",
       "      <td>UPDATE</td>\n",
       "      <td>GU</td>\n",
       "      <td>NaN</td>\n",
       "      <td>NaN</td>\n",
       "      <td>NaN</td>\n",
       "      <td>NaN</td>\n",
       "    </tr>\n",
       "    <tr>\n",
       "      <th>1</th>\n",
       "      <td>2</td>\n",
       "      <td>CSR0617082016857</td>\n",
       "      <td>John Deere India Private Limited</td>\n",
       "      <td>ashdeo</td>\n",
       "      <td>2020-08-17 12:51:01</td>\n",
       "      <td>Work notes added on Task number [code]&lt;a href=...</td>\n",
       "      <td>ap su response fine mp gwa gwa t3 st ncn sbe ...</td>\n",
       "      <td>UPDATE</td>\n",
       "      <td>NaN</td>\n",
       "      <td>NaN</td>\n",
       "      <td>NaN</td>\n",
       "      <td>NaN</td>\n",
       "      <td>NaN</td>\n",
       "    </tr>\n",
       "  </tbody>\n",
       "</table>\n",
       "</div>"
      ],
      "text/plain": [
       "   S. No.             Number                          Customer   Agent  \\\n",
       "0       1  CSR06260820141020         Bajaj Electricals Limited   guest   \n",
       "1       2   CSR0617082016857  John Deere India Private Limited  ashdeo   \n",
       "\n",
       "          Booking Time                              Internal (work notes)  \\\n",
       "0  2020-08-26 15:48:40  Work notes added on Task number [code]<a href=...   \n",
       "1  2020-08-17 12:51:01  Work notes added on Task number [code]<a href=...   \n",
       "\n",
       "                                        cleaned_text Classification  \\\n",
       "0   ap rssi: ssid1: 5 50:fe:f2:02:70:44 10.11.9.1...         UPDATE   \n",
       "1   ap su response fine mp gwa gwa t3 st ncn sbe ...         UPDATE   \n",
       "\n",
       "  Sub class 1 Sub class 2 Sub class 3 Fault Remarks  \n",
       "0          GU         NaN         NaN   NaN     NaN  \n",
       "1         NaN         NaN         NaN   NaN     NaN  "
      ]
     },
     "execution_count": 168,
     "metadata": {},
     "output_type": "execute_result"
    }
   ],
   "source": [
    "data_updates = pd.read_csv(r\"D:\\data_sets\\UPDATES.csv\" , encoding = \"latin-1\")\n",
    "data_updates.head(2)"
   ]
  },
  {
   "cell_type": "code",
   "execution_count": 169,
   "id": "e4eddf39",
   "metadata": {},
   "outputs": [
    {
     "data": {
      "text/html": [
       "<div>\n",
       "<style scoped>\n",
       "    .dataframe tbody tr th:only-of-type {\n",
       "        vertical-align: middle;\n",
       "    }\n",
       "\n",
       "    .dataframe tbody tr th {\n",
       "        vertical-align: top;\n",
       "    }\n",
       "\n",
       "    .dataframe thead th {\n",
       "        text-align: right;\n",
       "    }\n",
       "</style>\n",
       "<table border=\"1\" class=\"dataframe\">\n",
       "  <thead>\n",
       "    <tr style=\"text-align: right;\">\n",
       "      <th></th>\n",
       "      <th>Internal (work notes)</th>\n",
       "    </tr>\n",
       "  </thead>\n",
       "  <tbody>\n",
       "    <tr>\n",
       "      <th>0</th>\n",
       "      <td>Work notes added on Task number [code]&lt;a href=...</td>\n",
       "    </tr>\n",
       "    <tr>\n",
       "      <th>1</th>\n",
       "      <td>Work notes added on Task number [code]&lt;a href=...</td>\n",
       "    </tr>\n",
       "  </tbody>\n",
       "</table>\n",
       "</div>"
      ],
      "text/plain": [
       "                               Internal (work notes)\n",
       "0  Work notes added on Task number [code]<a href=...\n",
       "1  Work notes added on Task number [code]<a href=..."
      ]
     },
     "execution_count": 169,
     "metadata": {},
     "output_type": "execute_result"
    }
   ],
   "source": [
    "data_updates.drop([\"S. No.\" , \"Number\" , \"Customer\" , \"Agent\" , \"Booking Time\" , \"cleaned_text\" , \"Classification\" , \"Sub class 1\" , \"Sub class 2\" , \"Sub class 3\" , \"Fault\" , \"Remarks\"] , axis = 1 , inplace = True)\n",
    "\n",
    "\n",
    "data_updates.head(2)"
   ]
  },
  {
   "cell_type": "code",
   "execution_count": 170,
   "id": "e72f5da3",
   "metadata": {},
   "outputs": [],
   "source": [
    "data_updates['cleaned_text'] = data_updates[\"Internal (work notes)\"].str.extract(r'(Dear[\\s\\S]*?(?=(?:timeout))|Dear[\\s\\S]*?(?=(?:Additional comments))|Dear[\\s\\S]*?(?=(?:Dear))|Hi [\\s\\S]*|ap & su[\\s\\S]*?(?=(?:timeout))|AP & SU[\\s\\S]*|\\d{2}\\/\\d{2}\\/\\d{4}[\\s\\S]*?(?=(?:timeout))|\\d{2}\\/\\d{2}\\/\\d{4}[\\s\\S]*|RSSI[\\s\\S]*?(?=(?:timeout))|Switch [\\s\\S]*|SU[\\s\\S]*?(?=(?:timeout))|RSSI[\\s\\S]*|High latency[\\s\\S]*?(?=(?:timeout))|WIRELESS[\\s\\S]*?(?=(?:timeout))|eth [\\s\\S]*?(?=(?:Additional))|AP [\\s\\S]*?(?=(?:Wireless|timeout))|ap [\\s\\S]*?(?=(?:Uptime))|Current Time[\\s\\S]*?(?=(?:Wireless))|Dear[\\s\\S]*|dear[\\s\\S]*|Dear[\\s\\S]*?(?=(?:Thanks|Regards|Best|Warm|To get instant)))')\n",
    "\n",
    "def clean_text(text):\n",
    "    if isinstance(text, str):\n",
    "        return ' '.join(text.split())\n",
    "    else:\n",
    "        return text\n",
    "data_updates[\"cleaned_text\"] = data_updates[\"cleaned_text\"].apply(clean_text)\n"
   ]
  },
  {
   "cell_type": "code",
   "execution_count": 171,
   "id": "46c3ddef",
   "metadata": {},
   "outputs": [
    {
     "data": {
      "text/plain": [
       "Internal (work notes)      0\n",
       "cleaned_text             185\n",
       "dtype: int64"
      ]
     },
     "execution_count": 171,
     "metadata": {},
     "output_type": "execute_result"
    }
   ],
   "source": [
    "data_updates.isna().sum()"
   ]
  },
  {
   "cell_type": "code",
   "execution_count": 172,
   "id": "8f9f84ce",
   "metadata": {},
   "outputs": [],
   "source": [
    "data_updates[\"cleaned_text\"].fillna(data_updates[\"Internal (work notes)\"], inplace=True)"
   ]
  },
  {
   "cell_type": "code",
   "execution_count": 173,
   "id": "091366bb",
   "metadata": {},
   "outputs": [],
   "source": [
    "data_updates[\"label\"] = \"Updates\"\n",
    "data_updates[\"sentiment\"] = 4"
   ]
  },
  {
   "cell_type": "code",
   "execution_count": 174,
   "id": "b0938d05",
   "metadata": {},
   "outputs": [],
   "source": [
    "data_updates.to_csv(\"data_updates.csv\")"
   ]
  },
  {
   "cell_type": "code",
   "execution_count": 175,
   "id": "a8534cab",
   "metadata": {},
   "outputs": [
    {
     "data": {
      "text/plain": [
       "0"
      ]
     },
     "execution_count": 175,
     "metadata": {},
     "output_type": "execute_result"
    }
   ],
   "source": [
    "data_updates[\"cleaned_text\"].isna().sum()"
   ]
  },
  {
   "cell_type": "code",
   "execution_count": 176,
   "id": "2bf0cd64",
   "metadata": {},
   "outputs": [
    {
     "data": {
      "text/plain": [
       "0"
      ]
     },
     "execution_count": 176,
     "metadata": {},
     "output_type": "execute_result"
    }
   ],
   "source": [
    "len(data_updates[data_updates[\"cleaned_text\"] == \"\"])"
   ]
  },
  {
   "cell_type": "markdown",
   "id": "ff551db4",
   "metadata": {},
   "source": [
    "# Final data"
   ]
  },
  {
   "cell_type": "code",
   "execution_count": 177,
   "id": "6415a586",
   "metadata": {},
   "outputs": [],
   "source": [
    "data_final = pd.concat([data_etr , data_fe , data_rfo , data_updates , data_sr] , axis = 0)"
   ]
  },
  {
   "cell_type": "code",
   "execution_count": 178,
   "id": "02bc6be6",
   "metadata": {},
   "outputs": [
    {
     "data": {
      "text/html": [
       "<div>\n",
       "<style scoped>\n",
       "    .dataframe tbody tr th:only-of-type {\n",
       "        vertical-align: middle;\n",
       "    }\n",
       "\n",
       "    .dataframe tbody tr th {\n",
       "        vertical-align: top;\n",
       "    }\n",
       "\n",
       "    .dataframe thead th {\n",
       "        text-align: right;\n",
       "    }\n",
       "</style>\n",
       "<table border=\"1\" class=\"dataframe\">\n",
       "  <thead>\n",
       "    <tr style=\"text-align: right;\">\n",
       "      <th></th>\n",
       "      <th>Internal (work notes)</th>\n",
       "      <th>cleaned_text</th>\n",
       "      <th>sentiment</th>\n",
       "      <th>label</th>\n",
       "      <th>Unnamed: 0</th>\n",
       "    </tr>\n",
       "  </thead>\n",
       "  <tbody>\n",
       "    <tr>\n",
       "      <th>0</th>\n",
       "      <td>Esc || Link down from 6th Aug||CSP020508205934...</td>\n",
       "      <td>Dear Team, Extended ETR given by fiber team in...</td>\n",
       "      <td>0</td>\n",
       "      <td>ETR</td>\n",
       "      <td>NaN</td>\n",
       "    </tr>\n",
       "    <tr>\n",
       "      <th>1</th>\n",
       "      <td>CSR0219082047882 || BHARTI TT ||27431230||T-Sy...</td>\n",
       "      <td>Dear Customer, Suspecting media issue, same we...</td>\n",
       "      <td>0</td>\n",
       "      <td>ETR</td>\n",
       "      <td>NaN</td>\n",
       "    </tr>\n",
       "    <tr>\n",
       "      <th>2</th>\n",
       "      <td>CSP0221082081013 | Jubilant Foodworks Limited ...</td>\n",
       "      <td>Dear Team, Fe AMIN is on site checking last mi...</td>\n",
       "      <td>0</td>\n",
       "      <td>ETR</td>\n",
       "      <td>NaN</td>\n",
       "    </tr>\n",
       "    <tr>\n",
       "      <th>3</th>\n",
       "      <td>FRT Control &lt;frtcontrolroom@gmail.com&gt;\\nFri 8/...</td>\n",
       "      <td>Dear team, Extended ETR given by team : Today ...</td>\n",
       "      <td>0</td>\n",
       "      <td>ETR</td>\n",
       "      <td>NaN</td>\n",
       "    </tr>\n",
       "    <tr>\n",
       "      <th>4</th>\n",
       "      <td>LINK DOWN||CSR02130820164392||HKT Global (Sing...</td>\n",
       "      <td>HI Chaitanya. As team is working at site and E...</td>\n",
       "      <td>0</td>\n",
       "      <td>ETR</td>\n",
       "      <td>NaN</td>\n",
       "    </tr>\n",
       "    <tr>\n",
       "      <th>...</th>\n",
       "      <td>...</td>\n",
       "      <td>...</td>\n",
       "      <td>...</td>\n",
       "      <td>...</td>\n",
       "      <td>...</td>\n",
       "    </tr>\n",
       "    <tr>\n",
       "      <th>2262</th>\n",
       "      <td>Work notes added on Task number [code]&lt;a href=...</td>\n",
       "      <td>27/08/2020 02:43:41 PM Lalit Kumar Ojha Copied...</td>\n",
       "      <td>3</td>\n",
       "      <td>SR</td>\n",
       "      <td>1426.0</td>\n",
       "    </tr>\n",
       "    <tr>\n",
       "      <th>2263</th>\n",
       "      <td>Work notes added on Task number [code]&lt;a href=...</td>\n",
       "      <td>27/08/2020 02:43:41 PM Lalit Kumar Ojha Copied...</td>\n",
       "      <td>3</td>\n",
       "      <td>SR</td>\n",
       "      <td>1426.0</td>\n",
       "    </tr>\n",
       "    <tr>\n",
       "      <th>2264</th>\n",
       "      <td>Work notes added on Task number [code]&lt;a href=...</td>\n",
       "      <td>27/08/2020 02:43:41 PM Lalit Kumar Ojha Copied...</td>\n",
       "      <td>3</td>\n",
       "      <td>SR</td>\n",
       "      <td>1426.0</td>\n",
       "    </tr>\n",
       "    <tr>\n",
       "      <th>2265</th>\n",
       "      <td>Work notes added on Task number [code]&lt;a href=...</td>\n",
       "      <td>27/08/2020 02:43:41 PM Lalit Kumar Ojha Copied...</td>\n",
       "      <td>3</td>\n",
       "      <td>SR</td>\n",
       "      <td>1426.0</td>\n",
       "    </tr>\n",
       "    <tr>\n",
       "      <th>2266</th>\n",
       "      <td>Work notes added on Task number [code]&lt;a href=...</td>\n",
       "      <td>27/08/2020 02:43:41 PM Lalit Kumar Ojha Copied...</td>\n",
       "      <td>3</td>\n",
       "      <td>SR</td>\n",
       "      <td>1426.0</td>\n",
       "    </tr>\n",
       "  </tbody>\n",
       "</table>\n",
       "<p>15350 rows × 5 columns</p>\n",
       "</div>"
      ],
      "text/plain": [
       "                                  Internal (work notes)  \\\n",
       "0     Esc || Link down from 6th Aug||CSP020508205934...   \n",
       "1     CSR0219082047882 || BHARTI TT ||27431230||T-Sy...   \n",
       "2     CSP0221082081013 | Jubilant Foodworks Limited ...   \n",
       "3     FRT Control <frtcontrolroom@gmail.com>\\nFri 8/...   \n",
       "4     LINK DOWN||CSR02130820164392||HKT Global (Sing...   \n",
       "...                                                 ...   \n",
       "2262  Work notes added on Task number [code]<a href=...   \n",
       "2263  Work notes added on Task number [code]<a href=...   \n",
       "2264  Work notes added on Task number [code]<a href=...   \n",
       "2265  Work notes added on Task number [code]<a href=...   \n",
       "2266  Work notes added on Task number [code]<a href=...   \n",
       "\n",
       "                                           cleaned_text  sentiment label  \\\n",
       "0     Dear Team, Extended ETR given by fiber team in...          0   ETR   \n",
       "1     Dear Customer, Suspecting media issue, same we...          0   ETR   \n",
       "2     Dear Team, Fe AMIN is on site checking last mi...          0   ETR   \n",
       "3     Dear team, Extended ETR given by team : Today ...          0   ETR   \n",
       "4     HI Chaitanya. As team is working at site and E...          0   ETR   \n",
       "...                                                 ...        ...   ...   \n",
       "2262  27/08/2020 02:43:41 PM Lalit Kumar Ojha Copied...          3    SR   \n",
       "2263  27/08/2020 02:43:41 PM Lalit Kumar Ojha Copied...          3    SR   \n",
       "2264  27/08/2020 02:43:41 PM Lalit Kumar Ojha Copied...          3    SR   \n",
       "2265  27/08/2020 02:43:41 PM Lalit Kumar Ojha Copied...          3    SR   \n",
       "2266  27/08/2020 02:43:41 PM Lalit Kumar Ojha Copied...          3    SR   \n",
       "\n",
       "      Unnamed: 0  \n",
       "0            NaN  \n",
       "1            NaN  \n",
       "2            NaN  \n",
       "3            NaN  \n",
       "4            NaN  \n",
       "...          ...  \n",
       "2262      1426.0  \n",
       "2263      1426.0  \n",
       "2264      1426.0  \n",
       "2265      1426.0  \n",
       "2266      1426.0  \n",
       "\n",
       "[15350 rows x 5 columns]"
      ]
     },
     "execution_count": 178,
     "metadata": {},
     "output_type": "execute_result"
    }
   ],
   "source": [
    "data_final"
   ]
  },
  {
   "cell_type": "code",
   "execution_count": 179,
   "id": "a8bfdc89",
   "metadata": {},
   "outputs": [
    {
     "data": {
      "text/plain": [
       "Internal (work notes)        0\n",
       "cleaned_text                 0\n",
       "sentiment                    0\n",
       "label                        0\n",
       "Unnamed: 0               13083\n",
       "dtype: int64"
      ]
     },
     "execution_count": 179,
     "metadata": {},
     "output_type": "execute_result"
    }
   ],
   "source": [
    "data_final.isna().sum()"
   ]
  },
  {
   "cell_type": "code",
   "execution_count": 180,
   "id": "021cca15",
   "metadata": {},
   "outputs": [],
   "source": [
    "data_final.drop([\"Unnamed: 0\"] , axis = 1 , inplace = True)"
   ]
  },
  {
   "cell_type": "code",
   "execution_count": 181,
   "id": "b7946a6c",
   "metadata": {},
   "outputs": [],
   "source": [
    "from sklearn.utils import shuffle\n",
    "data_final = shuffle(data_final)"
   ]
  },
  {
   "cell_type": "code",
   "execution_count": 182,
   "id": "d228b9e3",
   "metadata": {},
   "outputs": [],
   "source": [
    "data_final\n",
    "data_final.to_csv(\"data_final.csv\")"
   ]
  },
  {
   "cell_type": "markdown",
   "id": "bd593af7",
   "metadata": {},
   "source": [
    "# Bert"
   ]
  },
  {
   "cell_type": "code",
   "execution_count": 55,
   "id": "25634d4f",
   "metadata": {},
   "outputs": [],
   "source": [
    "import pandas as pd\n",
    "import numpy as np\n",
    "from tqdm.auto import tqdm\n",
    "import tensorflow as tf\n",
    "from transformers import BertTokenizer"
   ]
  },
  {
   "cell_type": "code",
   "execution_count": 56,
   "id": "81187b05",
   "metadata": {},
   "outputs": [
    {
     "data": {
      "text/html": [
       "<div>\n",
       "<style scoped>\n",
       "    .dataframe tbody tr th:only-of-type {\n",
       "        vertical-align: middle;\n",
       "    }\n",
       "\n",
       "    .dataframe tbody tr th {\n",
       "        vertical-align: top;\n",
       "    }\n",
       "\n",
       "    .dataframe thead th {\n",
       "        text-align: right;\n",
       "    }\n",
       "</style>\n",
       "<table border=\"1\" class=\"dataframe\">\n",
       "  <thead>\n",
       "    <tr style=\"text-align: right;\">\n",
       "      <th></th>\n",
       "      <th>Internal (work notes)</th>\n",
       "      <th>cleaned_text</th>\n",
       "      <th>sentiment</th>\n",
       "    </tr>\n",
       "  </thead>\n",
       "  <tbody>\n",
       "    <tr>\n",
       "      <th>773</th>\n",
       "      <td>30/08/2020 05:36:36 PM\\n\\nJuttika Surya prasad...</td>\n",
       "      <td>30/08/2020 05:36:36 PM Juttika Surya prasad De...</td>\n",
       "      <td>3</td>\n",
       "    </tr>\n",
       "    <tr>\n",
       "      <th>3358</th>\n",
       "      <td>11/11/2020 07:06:01 PM\\n\\nK Murali Krishna Yad...</td>\n",
       "      <td>11/11/2020 07:06:01 PM\\n\\nK Murali Krishna Yad...</td>\n",
       "      <td>2</td>\n",
       "    </tr>\n",
       "    <tr>\n",
       "      <th>5498</th>\n",
       "      <td>Re: CSP0616082006150||LD || WEST|| MUMBAI || T...</td>\n",
       "      <td>Dear Kamlesh, RFO- Access ring isolate due to ...</td>\n",
       "      <td>2</td>\n",
       "    </tr>\n",
       "    <tr>\n",
       "      <th>1153</th>\n",
       "      <td>CSP0217082015942||WEST || Aurangabad,Maharasht...</td>\n",
       "      <td>Dear Sir, Dual path failure b/w: Kamgar_chowk ...</td>\n",
       "      <td>0</td>\n",
       "    </tr>\n",
       "    <tr>\n",
       "      <th>2048</th>\n",
       "      <td>dear team, rfo :- during that time our fe is w...</td>\n",
       "      <td>dear team, rfo :- during that time our fe is w...</td>\n",
       "      <td>2</td>\n",
       "    </tr>\n",
       "  </tbody>\n",
       "</table>\n",
       "</div>"
      ],
      "text/plain": [
       "                                  Internal (work notes)  \\\n",
       "773   30/08/2020 05:36:36 PM\\n\\nJuttika Surya prasad...   \n",
       "3358  11/11/2020 07:06:01 PM\\n\\nK Murali Krishna Yad...   \n",
       "5498  Re: CSP0616082006150||LD || WEST|| MUMBAI || T...   \n",
       "1153  CSP0217082015942||WEST || Aurangabad,Maharasht...   \n",
       "2048  dear team, rfo :- during that time our fe is w...   \n",
       "\n",
       "                                           cleaned_text  sentiment  \n",
       "773   30/08/2020 05:36:36 PM Juttika Surya prasad De...          3  \n",
       "3358  11/11/2020 07:06:01 PM\\n\\nK Murali Krishna Yad...          2  \n",
       "5498  Dear Kamlesh, RFO- Access ring isolate due to ...          2  \n",
       "1153  Dear Sir, Dual path failure b/w: Kamgar_chowk ...          0  \n",
       "2048  dear team, rfo :- during that time our fe is w...          2  "
      ]
     },
     "execution_count": 56,
     "metadata": {},
     "output_type": "execute_result"
    }
   ],
   "source": [
    "data_final.head()"
   ]
  },
  {
   "cell_type": "code",
   "execution_count": 57,
   "id": "fdc1a366",
   "metadata": {},
   "outputs": [
    {
     "name": "stdout",
     "output_type": "stream",
     "text": [
      "<class 'pandas.core.frame.DataFrame'>\n",
      "Int64Index: 14909 entries, 773 to 6547\n",
      "Data columns (total 3 columns):\n",
      " #   Column                 Non-Null Count  Dtype \n",
      "---  ------                 --------------  ----- \n",
      " 0   Internal (work notes)  14909 non-null  object\n",
      " 1   cleaned_text           14909 non-null  object\n",
      " 2   sentiment              14909 non-null  int64 \n",
      "dtypes: int64(1), object(2)\n",
      "memory usage: 465.9+ KB\n"
     ]
    }
   ],
   "source": [
    "data_final.info()"
   ]
  },
  {
   "cell_type": "code",
   "execution_count": 58,
   "id": "ec2da35d",
   "metadata": {},
   "outputs": [
    {
     "data": {
      "text/plain": [
       "2    6925\n",
       "4    3169\n",
       "3    1826\n",
       "0    1748\n",
       "1    1241\n",
       "Name: sentiment, dtype: int64"
      ]
     },
     "execution_count": 58,
     "metadata": {},
     "output_type": "execute_result"
    }
   ],
   "source": [
    "data_final[\"sentiment\"].value_counts()"
   ]
  },
  {
   "cell_type": "code",
   "execution_count": 59,
   "id": "0702dbdc",
   "metadata": {},
   "outputs": [
    {
     "data": {
      "text/plain": [
       "'\\nsentiment labels:\\n\\nETR - 0 , \\nFE = 1 , \\nRFO - 2 ,\\nSR - 3 , \\nUPDATES - 4\\n'"
      ]
     },
     "execution_count": 59,
     "metadata": {},
     "output_type": "execute_result"
    }
   ],
   "source": [
    "'''\n",
    "sentiment labels:\n",
    "\n",
    "ETR - 0 , \n",
    "FE = 1 , \n",
    "RFO - 2 ,\n",
    "SR - 3 , \n",
    "UPDATES - 4\n",
    "'''"
   ]
  },
  {
   "cell_type": "code",
   "execution_count": 60,
   "id": "48554e0b",
   "metadata": {},
   "outputs": [],
   "source": [
    "tokenizer = BertTokenizer.from_pretrained(\"bert-base-cased\")"
   ]
  },
  {
   "cell_type": "code",
   "execution_count": 61,
   "id": "511cd122",
   "metadata": {},
   "outputs": [
    {
     "name": "stderr",
     "output_type": "stream",
     "text": [
      "Keyword arguments {'max_lendth': 32, 'add_sepcial_tokens': True} not recognized.\n"
     ]
    }
   ],
   "source": [
    "token = tokenizer.encode_plus(\n",
    "      data_final[\"cleaned_text\"].iloc[0] , \n",
    "      max_lendth = 32 , \n",
    "      truncation = True , \n",
    "      padding = \"max_length\" ,\n",
    "      add_sepcial_tokens = True,  \n",
    "      return_tensors = \"tf\"\n",
    ")"
   ]
  },
  {
   "cell_type": "code",
   "execution_count": 62,
   "id": "9ef74107",
   "metadata": {},
   "outputs": [
    {
     "data": {
      "text/plain": [
       "{'input_ids': <tf.Tensor: shape=(1, 512), dtype=int32, numpy=\n",
       "array([[  101,  1476,   120,  4775,   120, 12795,  4991,   131,  3164,\n",
       "          131,  3164, 14123, 23915,  6154,  1968, 17078,  2315,   185,\n",
       "         7297,  3556, 12956, 25456,  1200,   117,  1284,  1132, 15639,\n",
       "         1115,  1103,  8132,  1322, 21697,  4442,  1110,  2519,  1895,\n",
       "         1114,  2503,  2593,   119, 21559,  4031,  1121,  1240,  1322,\n",
       "         1191,  1103,  1269,  2486,  1253,  1679, 22398,  1116,  1231,\n",
       "        12986,  1366,  1114,   120,  1476,  4528,   178,  1643,  1114,\n",
       "          123,  2005,  1104,  1205,  1159,  1111, 20559,  2549,   119,\n",
       "         4268,  1525,  1103,  2071, 16959,   131,   131, 24695, 16959,\n",
       "          131,   131,   145,  2069,   118,   144,  2349,  2249,   118,\n",
       "        20576,  2064,   118,   157,  1495,   118,   159,  2107,   118,\n",
       "        14056,  2249,   118,   156, 27211,   118,   140,  1475,  2428,\n",
       "         3190,   118,  5187,   118,   144,  2349,  2249,   108, 10473,\n",
       "         1403,   191, 11931, 24819, 10460,  3048,   118, 16151, 14666,\n",
       "        13910,  1275,   119,  1407,   119,  5465,   119, 17048,  1231,\n",
       "         6087, 27466, 10204,  6902,  3359,  4954,  1106,   170, 12207,\n",
       "         1204,   119, 25929,  1158,  6087,   117, 10204,   118,  1118,\n",
       "         1566,   146, 27847,  2101, 12940,  1116,  1106,  1275,   119,\n",
       "         1407,   119,  5465,   119, 17048,   117,   102,     0,     0,\n",
       "            0,     0,     0,     0,     0,     0,     0,     0,     0,\n",
       "            0,     0,     0,     0,     0,     0,     0,     0,     0,\n",
       "            0,     0,     0,     0,     0,     0,     0,     0,     0,\n",
       "            0,     0,     0,     0,     0,     0,     0,     0,     0,\n",
       "            0,     0,     0,     0,     0,     0,     0,     0,     0,\n",
       "            0,     0,     0,     0,     0,     0,     0,     0,     0,\n",
       "            0,     0,     0,     0,     0,     0,     0,     0,     0,\n",
       "            0,     0,     0,     0,     0,     0,     0,     0,     0,\n",
       "            0,     0,     0,     0,     0,     0,     0,     0,     0,\n",
       "            0,     0,     0,     0,     0,     0,     0,     0,     0,\n",
       "            0,     0,     0,     0,     0,     0,     0,     0,     0,\n",
       "            0,     0,     0,     0,     0,     0,     0,     0,     0,\n",
       "            0,     0,     0,     0,     0,     0,     0,     0,     0,\n",
       "            0,     0,     0,     0,     0,     0,     0,     0,     0,\n",
       "            0,     0,     0,     0,     0,     0,     0,     0,     0,\n",
       "            0,     0,     0,     0,     0,     0,     0,     0,     0,\n",
       "            0,     0,     0,     0,     0,     0,     0,     0,     0,\n",
       "            0,     0,     0,     0,     0,     0,     0,     0,     0,\n",
       "            0,     0,     0,     0,     0,     0,     0,     0,     0,\n",
       "            0,     0,     0,     0,     0,     0,     0,     0,     0,\n",
       "            0,     0,     0,     0,     0,     0,     0,     0,     0,\n",
       "            0,     0,     0,     0,     0,     0,     0,     0,     0,\n",
       "            0,     0,     0,     0,     0,     0,     0,     0,     0,\n",
       "            0,     0,     0,     0,     0,     0,     0,     0,     0,\n",
       "            0,     0,     0,     0,     0,     0,     0,     0,     0,\n",
       "            0,     0,     0,     0,     0,     0,     0,     0,     0,\n",
       "            0,     0,     0,     0,     0,     0,     0,     0,     0,\n",
       "            0,     0,     0,     0,     0,     0,     0,     0,     0,\n",
       "            0,     0,     0,     0,     0,     0,     0,     0,     0,\n",
       "            0,     0,     0,     0,     0,     0,     0,     0,     0,\n",
       "            0,     0,     0,     0,     0,     0,     0,     0,     0,\n",
       "            0,     0,     0,     0,     0,     0,     0,     0,     0,\n",
       "            0,     0,     0,     0,     0,     0,     0,     0,     0,\n",
       "            0,     0,     0,     0,     0,     0,     0,     0,     0,\n",
       "            0,     0,     0,     0,     0,     0,     0,     0,     0,\n",
       "            0,     0,     0,     0,     0,     0,     0,     0,     0,\n",
       "            0,     0,     0,     0,     0,     0,     0,     0,     0,\n",
       "            0,     0,     0,     0,     0,     0,     0,     0]])>, 'token_type_ids': <tf.Tensor: shape=(1, 512), dtype=int32, numpy=\n",
       "array([[0, 0, 0, 0, 0, 0, 0, 0, 0, 0, 0, 0, 0, 0, 0, 0, 0, 0, 0, 0, 0, 0,\n",
       "        0, 0, 0, 0, 0, 0, 0, 0, 0, 0, 0, 0, 0, 0, 0, 0, 0, 0, 0, 0, 0, 0,\n",
       "        0, 0, 0, 0, 0, 0, 0, 0, 0, 0, 0, 0, 0, 0, 0, 0, 0, 0, 0, 0, 0, 0,\n",
       "        0, 0, 0, 0, 0, 0, 0, 0, 0, 0, 0, 0, 0, 0, 0, 0, 0, 0, 0, 0, 0, 0,\n",
       "        0, 0, 0, 0, 0, 0, 0, 0, 0, 0, 0, 0, 0, 0, 0, 0, 0, 0, 0, 0, 0, 0,\n",
       "        0, 0, 0, 0, 0, 0, 0, 0, 0, 0, 0, 0, 0, 0, 0, 0, 0, 0, 0, 0, 0, 0,\n",
       "        0, 0, 0, 0, 0, 0, 0, 0, 0, 0, 0, 0, 0, 0, 0, 0, 0, 0, 0, 0, 0, 0,\n",
       "        0, 0, 0, 0, 0, 0, 0, 0, 0, 0, 0, 0, 0, 0, 0, 0, 0, 0, 0, 0, 0, 0,\n",
       "        0, 0, 0, 0, 0, 0, 0, 0, 0, 0, 0, 0, 0, 0, 0, 0, 0, 0, 0, 0, 0, 0,\n",
       "        0, 0, 0, 0, 0, 0, 0, 0, 0, 0, 0, 0, 0, 0, 0, 0, 0, 0, 0, 0, 0, 0,\n",
       "        0, 0, 0, 0, 0, 0, 0, 0, 0, 0, 0, 0, 0, 0, 0, 0, 0, 0, 0, 0, 0, 0,\n",
       "        0, 0, 0, 0, 0, 0, 0, 0, 0, 0, 0, 0, 0, 0, 0, 0, 0, 0, 0, 0, 0, 0,\n",
       "        0, 0, 0, 0, 0, 0, 0, 0, 0, 0, 0, 0, 0, 0, 0, 0, 0, 0, 0, 0, 0, 0,\n",
       "        0, 0, 0, 0, 0, 0, 0, 0, 0, 0, 0, 0, 0, 0, 0, 0, 0, 0, 0, 0, 0, 0,\n",
       "        0, 0, 0, 0, 0, 0, 0, 0, 0, 0, 0, 0, 0, 0, 0, 0, 0, 0, 0, 0, 0, 0,\n",
       "        0, 0, 0, 0, 0, 0, 0, 0, 0, 0, 0, 0, 0, 0, 0, 0, 0, 0, 0, 0, 0, 0,\n",
       "        0, 0, 0, 0, 0, 0, 0, 0, 0, 0, 0, 0, 0, 0, 0, 0, 0, 0, 0, 0, 0, 0,\n",
       "        0, 0, 0, 0, 0, 0, 0, 0, 0, 0, 0, 0, 0, 0, 0, 0, 0, 0, 0, 0, 0, 0,\n",
       "        0, 0, 0, 0, 0, 0, 0, 0, 0, 0, 0, 0, 0, 0, 0, 0, 0, 0, 0, 0, 0, 0,\n",
       "        0, 0, 0, 0, 0, 0, 0, 0, 0, 0, 0, 0, 0, 0, 0, 0, 0, 0, 0, 0, 0, 0,\n",
       "        0, 0, 0, 0, 0, 0, 0, 0, 0, 0, 0, 0, 0, 0, 0, 0, 0, 0, 0, 0, 0, 0,\n",
       "        0, 0, 0, 0, 0, 0, 0, 0, 0, 0, 0, 0, 0, 0, 0, 0, 0, 0, 0, 0, 0, 0,\n",
       "        0, 0, 0, 0, 0, 0, 0, 0, 0, 0, 0, 0, 0, 0, 0, 0, 0, 0, 0, 0, 0, 0,\n",
       "        0, 0, 0, 0, 0, 0]])>, 'attention_mask': <tf.Tensor: shape=(1, 512), dtype=int32, numpy=\n",
       "array([[1, 1, 1, 1, 1, 1, 1, 1, 1, 1, 1, 1, 1, 1, 1, 1, 1, 1, 1, 1, 1, 1,\n",
       "        1, 1, 1, 1, 1, 1, 1, 1, 1, 1, 1, 1, 1, 1, 1, 1, 1, 1, 1, 1, 1, 1,\n",
       "        1, 1, 1, 1, 1, 1, 1, 1, 1, 1, 1, 1, 1, 1, 1, 1, 1, 1, 1, 1, 1, 1,\n",
       "        1, 1, 1, 1, 1, 1, 1, 1, 1, 1, 1, 1, 1, 1, 1, 1, 1, 1, 1, 1, 1, 1,\n",
       "        1, 1, 1, 1, 1, 1, 1, 1, 1, 1, 1, 1, 1, 1, 1, 1, 1, 1, 1, 1, 1, 1,\n",
       "        1, 1, 1, 1, 1, 1, 1, 1, 1, 1, 1, 1, 1, 1, 1, 1, 1, 1, 1, 1, 1, 1,\n",
       "        1, 1, 1, 1, 1, 1, 1, 1, 1, 1, 1, 1, 1, 1, 1, 1, 1, 1, 1, 1, 1, 1,\n",
       "        1, 1, 1, 1, 1, 1, 1, 1, 1, 1, 1, 1, 1, 1, 1, 0, 0, 0, 0, 0, 0, 0,\n",
       "        0, 0, 0, 0, 0, 0, 0, 0, 0, 0, 0, 0, 0, 0, 0, 0, 0, 0, 0, 0, 0, 0,\n",
       "        0, 0, 0, 0, 0, 0, 0, 0, 0, 0, 0, 0, 0, 0, 0, 0, 0, 0, 0, 0, 0, 0,\n",
       "        0, 0, 0, 0, 0, 0, 0, 0, 0, 0, 0, 0, 0, 0, 0, 0, 0, 0, 0, 0, 0, 0,\n",
       "        0, 0, 0, 0, 0, 0, 0, 0, 0, 0, 0, 0, 0, 0, 0, 0, 0, 0, 0, 0, 0, 0,\n",
       "        0, 0, 0, 0, 0, 0, 0, 0, 0, 0, 0, 0, 0, 0, 0, 0, 0, 0, 0, 0, 0, 0,\n",
       "        0, 0, 0, 0, 0, 0, 0, 0, 0, 0, 0, 0, 0, 0, 0, 0, 0, 0, 0, 0, 0, 0,\n",
       "        0, 0, 0, 0, 0, 0, 0, 0, 0, 0, 0, 0, 0, 0, 0, 0, 0, 0, 0, 0, 0, 0,\n",
       "        0, 0, 0, 0, 0, 0, 0, 0, 0, 0, 0, 0, 0, 0, 0, 0, 0, 0, 0, 0, 0, 0,\n",
       "        0, 0, 0, 0, 0, 0, 0, 0, 0, 0, 0, 0, 0, 0, 0, 0, 0, 0, 0, 0, 0, 0,\n",
       "        0, 0, 0, 0, 0, 0, 0, 0, 0, 0, 0, 0, 0, 0, 0, 0, 0, 0, 0, 0, 0, 0,\n",
       "        0, 0, 0, 0, 0, 0, 0, 0, 0, 0, 0, 0, 0, 0, 0, 0, 0, 0, 0, 0, 0, 0,\n",
       "        0, 0, 0, 0, 0, 0, 0, 0, 0, 0, 0, 0, 0, 0, 0, 0, 0, 0, 0, 0, 0, 0,\n",
       "        0, 0, 0, 0, 0, 0, 0, 0, 0, 0, 0, 0, 0, 0, 0, 0, 0, 0, 0, 0, 0, 0,\n",
       "        0, 0, 0, 0, 0, 0, 0, 0, 0, 0, 0, 0, 0, 0, 0, 0, 0, 0, 0, 0, 0, 0,\n",
       "        0, 0, 0, 0, 0, 0, 0, 0, 0, 0, 0, 0, 0, 0, 0, 0, 0, 0, 0, 0, 0, 0,\n",
       "        0, 0, 0, 0, 0, 0]])>}"
      ]
     },
     "execution_count": 62,
     "metadata": {},
     "output_type": "execute_result"
    }
   ],
   "source": [
    "token"
   ]
  },
  {
   "cell_type": "code",
   "execution_count": 63,
   "id": "f67af80f",
   "metadata": {},
   "outputs": [],
   "source": [
    "X_input_ids = np.zeros((len(data_final) , 32))\n",
    "X_attn_masks = np.zeros((len(data_final) , 32))"
   ]
  },
  {
   "cell_type": "code",
   "execution_count": 64,
   "id": "fe91ee5c",
   "metadata": {},
   "outputs": [
    {
     "name": "stdout",
     "output_type": "stream",
     "text": [
      "(14909, 32)\n",
      "(14909, 32)\n"
     ]
    }
   ],
   "source": [
    "print(X_input_ids.shape)\n",
    "print(X_attn_masks.shape)"
   ]
  },
  {
   "cell_type": "code",
   "execution_count": 65,
   "id": "1739bd5d",
   "metadata": {},
   "outputs": [],
   "source": [
    "def generate_training_data(data_final , ids , masks , tokenizer):\n",
    "    for i , text in tqdm(enumerate(data_final[\"cleaned_text\"])):\n",
    "        tokenized_text = tokenizer.encode_plus(\n",
    "             text , \n",
    "            max_length = 32 , \n",
    "            truncation = True , \n",
    "            padding = \"max_length\" , \n",
    "            add_special_tokens = True , \n",
    "            return_tensors = \"tf\"\n",
    "        )\n",
    "        \n",
    "        ids[i , :] = tokenized_text.input_ids\n",
    "        masks[i , :] = tokenized_text.attention_mask\n",
    "    return ids , masks"
   ]
  },
  {
   "cell_type": "code",
   "execution_count": 66,
   "id": "529ea01e",
   "metadata": {},
   "outputs": [
    {
     "data": {
      "application/vnd.jupyter.widget-view+json": {
       "model_id": "073b895e327a4933a310efda0ffd6acd",
       "version_major": 2,
       "version_minor": 0
      },
      "text/plain": [
       "0it [00:00, ?it/s]"
      ]
     },
     "metadata": {},
     "output_type": "display_data"
    }
   ],
   "source": [
    "X_input_ids , X_attn_masks = generate_training_data(data_final , X_input_ids , X_attn_masks , tokenizer)"
   ]
  },
  {
   "cell_type": "code",
   "execution_count": 67,
   "id": "baf0e55a",
   "metadata": {},
   "outputs": [
    {
     "data": {
      "text/plain": [
       "array([[  101.,  1476.,   120., ...,  8132.,  1322.,   102.],\n",
       "       [  101.,  1429.,   120., ...,  3094.,  9455.,   102.],\n",
       "       [  101., 12956., 14812., ...,  3507.,  8758.,   102.],\n",
       "       ...,\n",
       "       [  101., 12956.,   138., ...,  2516., 23296.,   102.],\n",
       "       [  101., 12956., 25456., ...,  8797., 15531.,   102.],\n",
       "       [  101., 12956., 24930., ..., 22639.,  1580.,   102.]])"
      ]
     },
     "execution_count": 67,
     "metadata": {},
     "output_type": "execute_result"
    }
   ],
   "source": [
    "X_input_ids"
   ]
  },
  {
   "cell_type": "code",
   "execution_count": 68,
   "id": "56796c4c",
   "metadata": {},
   "outputs": [
    {
     "data": {
      "text/plain": [
       "(14909, 5)"
      ]
     },
     "execution_count": 68,
     "metadata": {},
     "output_type": "execute_result"
    }
   ],
   "source": [
    "labels = np.zeros((len(data_final) , 5))\n",
    "labels.shape"
   ]
  },
  {
   "cell_type": "code",
   "execution_count": 69,
   "id": "9f46db24",
   "metadata": {},
   "outputs": [
    {
     "data": {
      "text/plain": [
       "array([[0., 0., 0., 1., 0.],\n",
       "       [0., 0., 1., 0., 0.],\n",
       "       [0., 0., 1., 0., 0.],\n",
       "       ...,\n",
       "       [0., 0., 0., 0., 1.],\n",
       "       [0., 0., 0., 1., 0.],\n",
       "       [0., 0., 1., 0., 0.]])"
      ]
     },
     "execution_count": 69,
     "metadata": {},
     "output_type": "execute_result"
    }
   ],
   "source": [
    "labels[np.arange(len(data_final)) , data_final[\"sentiment\"].values] = 1\n",
    "labels"
   ]
  },
  {
   "cell_type": "code",
   "execution_count": 70,
   "id": "714e3b9f",
   "metadata": {},
   "outputs": [],
   "source": [
    "dataset = tf.data.Dataset.from_tensor_slices((X_input_ids , X_attn_masks , labels))"
   ]
  },
  {
   "cell_type": "code",
   "execution_count": 71,
   "id": "9997a887",
   "metadata": {},
   "outputs": [
    {
     "data": {
      "text/plain": [
       "<TakeDataset element_spec=(TensorSpec(shape=(32,), dtype=tf.float64, name=None), TensorSpec(shape=(32,), dtype=tf.float64, name=None), TensorSpec(shape=(5,), dtype=tf.float64, name=None))>"
      ]
     },
     "execution_count": 71,
     "metadata": {},
     "output_type": "execute_result"
    }
   ],
   "source": [
    "dataset.take(1)"
   ]
  },
  {
   "cell_type": "code",
   "execution_count": 72,
   "id": "0e6ce5b9",
   "metadata": {},
   "outputs": [],
   "source": [
    "def sentimentdatasetmapfunction(input_ids , attn_masks , labels):\n",
    "    return {\n",
    "        \"input_ids\" : input_ids , \n",
    "        \"attention_mask\" : attn_masks \n",
    "    } , labels"
   ]
  },
  {
   "cell_type": "code",
   "execution_count": 73,
   "id": "c2c0b1eb",
   "metadata": {},
   "outputs": [],
   "source": [
    "dataset = dataset.map(sentimentdatasetmapfunction)"
   ]
  },
  {
   "cell_type": "code",
   "execution_count": 74,
   "id": "943576f5",
   "metadata": {},
   "outputs": [
    {
     "data": {
      "text/plain": [
       "<TakeDataset element_spec=({'input_ids': TensorSpec(shape=(32,), dtype=tf.float64, name=None), 'attention_mask': TensorSpec(shape=(32,), dtype=tf.float64, name=None)}, TensorSpec(shape=(5,), dtype=tf.float64, name=None))>"
      ]
     },
     "execution_count": 74,
     "metadata": {},
     "output_type": "execute_result"
    }
   ],
   "source": [
    "dataset.take(1)"
   ]
  },
  {
   "cell_type": "code",
   "execution_count": 75,
   "id": "bda1adb2",
   "metadata": {},
   "outputs": [],
   "source": [
    "dataset = dataset.shuffle(10000).batch(16 , drop_remainder = True)"
   ]
  },
  {
   "cell_type": "markdown",
   "id": "0bacb42f",
   "metadata": {},
   "source": [
    "# # Training validation data"
   ]
  },
  {
   "cell_type": "code",
   "execution_count": 76,
   "id": "b8eaf3f0",
   "metadata": {},
   "outputs": [],
   "source": [
    "p = 0.8\n",
    "train_size = int((len(data_final)//16)*p)"
   ]
  },
  {
   "cell_type": "code",
   "execution_count": 77,
   "id": "f9e50764",
   "metadata": {},
   "outputs": [
    {
     "data": {
      "text/plain": [
       "744"
      ]
     },
     "execution_count": 77,
     "metadata": {},
     "output_type": "execute_result"
    }
   ],
   "source": [
    "train_size"
   ]
  },
  {
   "cell_type": "code",
   "execution_count": 78,
   "id": "ff3170b2",
   "metadata": {},
   "outputs": [],
   "source": [
    "train_dataset = dataset.take(train_size)\n",
    "val_dataset = dataset.skip(train_size)"
   ]
  },
  {
   "cell_type": "code",
   "execution_count": 79,
   "id": "998ead5a",
   "metadata": {},
   "outputs": [],
   "source": [
    "from transformers import TFBertModel"
   ]
  },
  {
   "cell_type": "code",
   "execution_count": 80,
   "id": "8698746f",
   "metadata": {},
   "outputs": [
    {
     "name": "stderr",
     "output_type": "stream",
     "text": [
      "Some layers from the model checkpoint at bert-base-cased were not used when initializing TFBertModel: ['nsp___cls', 'mlm___cls']\n",
      "- This IS expected if you are initializing TFBertModel from the checkpoint of a model trained on another task or with another architecture (e.g. initializing a BertForSequenceClassification model from a BertForPreTraining model).\n",
      "- This IS NOT expected if you are initializing TFBertModel from the checkpoint of a model that you expect to be exactly identical (initializing a BertForSequenceClassification model from a BertForSequenceClassification model).\n",
      "All the layers of TFBertModel were initialized from the model checkpoint at bert-base-cased.\n",
      "If your task is similar to the task the model of the checkpoint was trained on, you can already use TFBertModel for predictions without further training.\n"
     ]
    }
   ],
   "source": [
    "bert_model = TFBertModel.from_pretrained(\"bert-base-cased\")"
   ]
  },
  {
   "cell_type": "code",
   "execution_count": 81,
   "id": "f1d01dee",
   "metadata": {},
   "outputs": [],
   "source": [
    "input_ids = tf.keras.layers.Input(shape = (32 , ) , name = \"input_ids\" , dtype = \"int32\")\n",
    "attention_masks = tf.keras.layers.Input(shape = (32 , ) , name = \"attention_mask\" , dtype = \"int32\")"
   ]
  },
  {
   "cell_type": "code",
   "execution_count": 82,
   "id": "f2756409",
   "metadata": {},
   "outputs": [
    {
     "name": "stdout",
     "output_type": "stream",
     "text": [
      "Model: \"model\"\n",
      "__________________________________________________________________________________________________\n",
      " Layer (type)                   Output Shape         Param #     Connected to                     \n",
      "==================================================================================================\n",
      " input_ids (InputLayer)         [(None, 32)]         0           []                               \n",
      "                                                                                                  \n",
      " attention_mask (InputLayer)    [(None, 32)]         0           []                               \n",
      "                                                                                                  \n",
      " bert (TFBertMainLayer)         TFBaseModelOutputWi  108310272   ['input_ids[0][0]',              \n",
      "                                thPoolingAndCrossAt               'attention_mask[0][0]']         \n",
      "                                tentions(last_hidde                                               \n",
      "                                n_state=(None, 32,                                                \n",
      "                                768),                                                             \n",
      "                                 pooler_output=(Non                                               \n",
      "                                e, 768),                                                          \n",
      "                                 past_key_values=No                                               \n",
      "                                ne, hidden_states=N                                               \n",
      "                                one, attentions=Non                                               \n",
      "                                e, cross_attentions                                               \n",
      "                                =None)                                                            \n",
      "                                                                                                  \n",
      " intermediate_layer (Dense)     (None, 64)           49216       ['bert[0][1]']                   \n",
      "                                                                                                  \n",
      " output_layer (Dense)           (None, 5)            325         ['intermediate_layer[0][0]']     \n",
      "                                                                                                  \n",
      "==================================================================================================\n",
      "Total params: 108,359,813\n",
      "Trainable params: 108,359,813\n",
      "Non-trainable params: 0\n",
      "__________________________________________________________________________________________________\n"
     ]
    }
   ],
   "source": [
    "bert_embds = bert_model.bert(input_ids , attention_mask = attention_masks)[1]\n",
    "\n",
    "intermediate_layer = tf.keras.layers.Dense(64 , activation = \"relu\" , name = \"intermediate_layer\")(bert_embds)\n",
    "\n",
    "output_layer = tf.keras.layers.Dense(5 , activation = \"softmax\" , name = \"output_layer\")(intermediate_layer)\n",
    "\n",
    "model = tf.keras.Model(inputs = [input_ids , attention_masks] , outputs = output_layer)\n",
    "model.summary()"
   ]
  },
  {
   "cell_type": "code",
   "execution_count": 83,
   "id": "974bc349",
   "metadata": {},
   "outputs": [],
   "source": [
    "optim = tf.keras.optimizers.Adam(learning_rate = 1e-5 , decay = 1e-6)\n",
    "loss_func = tf.keras.losses.CategoricalCrossentropy()\n",
    "acc = tf.keras.metrics.CategoricalAccuracy(\"accuracy\")"
   ]
  },
  {
   "cell_type": "code",
   "execution_count": 84,
   "id": "7852fd3a",
   "metadata": {},
   "outputs": [],
   "source": [
    "model.compile(optimizer = optim , loss = loss_func , metrics = [acc])"
   ]
  },
  {
   "cell_type": "code",
   "execution_count": 85,
   "id": "02bea42d",
   "metadata": {},
   "outputs": [
    {
     "name": "stdout",
     "output_type": "stream",
     "text": [
      "744/744 [==============================] - 2447s 3s/step - loss: 0.6016 - accuracy: 0.7862 - val_loss: 0.3375 - val_accuracy: 0.8860\n"
     ]
    }
   ],
   "source": [
    "hist = model.fit(\n",
    "    train_dataset , \n",
    "    validation_data = val_dataset ,\n",
    "    epochs = 1\n",
    ")"
   ]
  },
  {
   "cell_type": "code",
   "execution_count": null,
   "id": "eb244b34",
   "metadata": {},
   "outputs": [],
   "source": []
  },
  {
   "cell_type": "code",
   "execution_count": null,
   "id": "42d8b22e",
   "metadata": {},
   "outputs": [],
   "source": []
  },
  {
   "cell_type": "code",
   "execution_count": null,
   "id": "bcc8d760",
   "metadata": {},
   "outputs": [],
   "source": []
  },
  {
   "cell_type": "code",
   "execution_count": null,
   "id": "59822174",
   "metadata": {},
   "outputs": [],
   "source": []
  },
  {
   "cell_type": "code",
   "execution_count": null,
   "id": "f6261abe",
   "metadata": {},
   "outputs": [],
   "source": []
  }
 ],
 "metadata": {
  "kernelspec": {
   "display_name": "Python 3 (ipykernel)",
   "language": "python",
   "name": "python3"
  },
  "language_info": {
   "codemirror_mode": {
    "name": "ipython",
    "version": 3
   },
   "file_extension": ".py",
   "mimetype": "text/x-python",
   "name": "python",
   "nbconvert_exporter": "python",
   "pygments_lexer": "ipython3",
   "version": "3.10.8"
  }
 },
 "nbformat": 4,
 "nbformat_minor": 5
}
