{
  "nbformat": 4,
  "nbformat_minor": 0,
  "metadata": {
    "colab": {
      "provenance": [],
      "authorship_tag": "ABX9TyO7qoRocY5/LCZNAPvJ20db",
      "include_colab_link": true
    },
    "kernelspec": {
      "name": "python3",
      "display_name": "Python 3"
    },
    "language_info": {
      "name": "python"
    }
  },
  "cells": [
    {
      "cell_type": "markdown",
      "metadata": {
        "id": "view-in-github",
        "colab_type": "text"
      },
      "source": [
        "<a href=\"https://colab.research.google.com/github/CKBoppudi/CKBoppudi/blob/main/parts_of_speech.ipynb\" target=\"_parent\"><img src=\"https://colab.research.google.com/assets/colab-badge.svg\" alt=\"Open In Colab\"/></a>"
      ]
    },
    {
      "cell_type": "code",
      "execution_count": 1,
      "metadata": {
        "colab": {
          "base_uri": "https://localhost:8080/"
        },
        "id": "Vbt0YIaoq1Ue",
        "outputId": "04e20dc9-02dc-4816-d1d5-32fff4d47d58"
      },
      "outputs": [
        {
          "output_type": "stream",
          "name": "stderr",
          "text": [
            "/usr/local/lib/python3.8/dist-packages/torch/cuda/__init__.py:497: UserWarning: Can't initialize NVML\n",
            "  warnings.warn(\"Can't initialize NVML\")\n"
          ]
        }
      ],
      "source": [
        "import spacy"
      ]
    },
    {
      "cell_type": "code",
      "source": [
        "nlp = spacy.load(\"en_core_web_sm\")"
      ],
      "metadata": {
        "id": "gwsX6-fGq4KR"
      },
      "execution_count": 3,
      "outputs": []
    },
    {
      "cell_type": "markdown",
      "source": [
        "# Printing parts of speech for each token."
      ],
      "metadata": {
        "id": "QcGiCGkpsg9Y"
      }
    },
    {
      "cell_type": "code",
      "source": [
        " doc = nlp(\"Elon flew to mars yesterday. He carried biryani masala with him\")\n",
        "\n",
        "for token in doc:\n",
        "  print(token , \"|\" , token.pos_ , \"|\" , spacy.explain(token.pos_))"
      ],
      "metadata": {
        "colab": {
          "base_uri": "https://localhost:8080/"
        },
        "id": "sHz-7Yz-rBym",
        "outputId": "533dcd2b-c4e4-4529-ff15-c2e008c7dda5"
      },
      "execution_count": 14,
      "outputs": [
        {
          "output_type": "stream",
          "name": "stdout",
          "text": [
            "Elon | PROPN | proper noun\n",
            "flew | VERB | verb\n",
            "to | ADP | adposition\n",
            "mars | NOUN | noun\n",
            "yesterday | NOUN | noun\n",
            ". | PUNCT | punctuation\n",
            "He | PRON | pronoun\n",
            "carried | VERB | verb\n",
            "biryani | NOUN | noun\n",
            "masala | NOUN | noun\n",
            "with | ADP | adposition\n",
            "him | PRON | pronoun\n"
          ]
        }
      ]
    },
    {
      "cell_type": "code",
      "source": [
        "doc = nlp(\"wow! Dr. strange made 265 million $ on the very first day\")\n",
        "\n",
        "for token in doc:\n",
        "  print(token , \" | \" , token.pos_ , \" | \" , spacy.explain(token.pos_) , \" | \" ,  token.tag_ , \" | \" , spacy.explain(token.tag_))"
      ],
      "metadata": {
        "colab": {
          "base_uri": "https://localhost:8080/"
        },
        "id": "F6cld7UBrPZO",
        "outputId": "a02c7de3-a9e5-4774-8784-0a7271c1860e"
      },
      "execution_count": 27,
      "outputs": [
        {
          "output_type": "stream",
          "name": "stdout",
          "text": [
            "wow  |  INTJ  |  interjection  |  UH  |  interjection\n",
            "!  |  PUNCT  |  punctuation  |  .  |  punctuation mark, sentence closer\n",
            "Dr.  |  PROPN  |  proper noun  |  NNP  |  noun, proper singular\n",
            "strange  |  NOUN  |  noun  |  NN  |  noun, singular or mass\n",
            "made  |  VERB  |  verb  |  VBD  |  verb, past tense\n",
            "265  |  NUM  |  numeral  |  CD  |  cardinal number\n",
            "million  |  NUM  |  numeral  |  CD  |  cardinal number\n",
            "$  |  PUNCT  |  punctuation  |  -RRB-  |  right round bracket\n",
            "on  |  ADP  |  adposition  |  IN  |  conjunction, subordinating or preposition\n",
            "the  |  DET  |  determiner  |  DT  |  determiner\n",
            "very  |  ADV  |  adverb  |  RB  |  adverb\n",
            "first  |  ADJ  |  adjective  |  JJ  |  adjective (English), other noun-modifier (Chinese)\n",
            "day  |  NOUN  |  noun  |  NN  |  noun, singular or mass\n"
          ]
        }
      ]
    },
    {
      "cell_type": "code",
      "source": [
        "doc = nlp(\"He quits the job\")\n",
        "\n",
        "doc[1]\n",
        "print(doc[1] , \" | \" , doc[1].pos_  , \" | \", spacy.explain(doc[1].pos_) , \" | \" , doc[1].tag_ , \" | \" , spacy.explain(doc[1].tag_))"
      ],
      "metadata": {
        "colab": {
          "base_uri": "https://localhost:8080/"
        },
        "id": "dBJKit5Lrcq4",
        "outputId": "d5ec2c81-4a4c-4937-e4ee-1222e06076cb"
      },
      "execution_count": 32,
      "outputs": [
        {
          "output_type": "stream",
          "name": "stdout",
          "text": [
            "quits  |  VERB  |  verb  |  VBZ  |  verb, 3rd person singular present\n"
          ]
        }
      ]
    },
    {
      "cell_type": "code",
      "source": [
        "doc = nlp(\"He quit the job\")\n",
        "\n",
        "doc[1]\n",
        "print(doc[1] , \" | \" , doc[1].pos_  , \" | \", spacy.explain(doc[1].pos_) , \" | \" , doc[1].tag_ , \" | \" , spacy.explain(doc[1].tag_))"
      ],
      "metadata": {
        "colab": {
          "base_uri": "https://localhost:8080/"
        },
        "id": "B71jfaSIrdvw",
        "outputId": "53938ab4-a924-4e6c-ee07-bb66c3b28796"
      },
      "execution_count": 33,
      "outputs": [
        {
          "output_type": "stream",
          "name": "stdout",
          "text": [
            "quit  |  VERB  |  verb  |  VBD  |  verb, past tense\n"
          ]
        }
      ]
    },
    {
      "cell_type": "code",
      "source": [
        "text_ms = \"\"\"Microsoft Corp. today announced the following results for the quarter ended December 31, 2022, as compared to the corresponding period of last fiscal year:\n",
        "·        Revenue was $52.7 billion and increased 2%  \n",
        "\n",
        "·        Operating income was $20.4 billion GAAP and $21.6 billion non-GAAP, and decreased 8% and 3%, respectively\n",
        "\n",
        "·        Net income was $16.4 billion GAAP and $17.4 billion non-GAAP, and decreased 12% and 7%, respectively\n",
        "\n",
        "·        Diluted earnings per share was $2.20 GAAP and $2.32 non-GAAP, and decreased 11% and 6%, respectively\"\"\""
      ],
      "metadata": {
        "id": "ad8Lk2GYrd41"
      },
      "execution_count": 34,
      "outputs": []
    },
    {
      "cell_type": "code",
      "source": [
        "# Removing all the punctuation marks and all the extra characters from the above text."
      ],
      "metadata": {
        "id": "XlM9p4VeyN-7"
      },
      "execution_count": 38,
      "outputs": []
    },
    {
      "cell_type": "code",
      "source": [
        "doc = nlp(text_ms)\n",
        "\n",
        "filtered_tokens = []\n",
        "for token in doc:\n",
        "  if token.pos_ not in [\"SPACE\" , \"X\" , \"PUNCT\"]:\n",
        "    filtered_tokens.append(token)"
      ],
      "metadata": {
        "id": "Ernk0OMhrd7M"
      },
      "execution_count": 45,
      "outputs": []
    },
    {
      "cell_type": "code",
      "source": [
        "filtered_tokens"
      ],
      "metadata": {
        "colab": {
          "base_uri": "https://localhost:8080/"
        },
        "id": "9HChPPJWrd9E",
        "outputId": "64cba17f-6bd5-4faa-9c19-6f522d0db85a"
      },
      "execution_count": 46,
      "outputs": [
        {
          "output_type": "execute_result",
          "data": {
            "text/plain": [
              "[Microsoft,\n",
              " Corp.,\n",
              " today,\n",
              " announced,\n",
              " the,\n",
              " following,\n",
              " results,\n",
              " for,\n",
              " the,\n",
              " quarter,\n",
              " ended,\n",
              " December,\n",
              " 31,\n",
              " 2022,\n",
              " as,\n",
              " compared,\n",
              " to,\n",
              " the,\n",
              " corresponding,\n",
              " period,\n",
              " of,\n",
              " last,\n",
              " fiscal,\n",
              " year,\n",
              " Revenue,\n",
              " was,\n",
              " $,\n",
              " 52.7,\n",
              " billion,\n",
              " and,\n",
              " increased,\n",
              " 2,\n",
              " %,\n",
              " Operating,\n",
              " income,\n",
              " was,\n",
              " $,\n",
              " 20.4,\n",
              " billion,\n",
              " GAAP,\n",
              " and,\n",
              " $,\n",
              " 21.6,\n",
              " billion,\n",
              " non,\n",
              " -,\n",
              " GAAP,\n",
              " and,\n",
              " decreased,\n",
              " 8,\n",
              " %,\n",
              " and,\n",
              " 3,\n",
              " %,\n",
              " respectively,\n",
              " Net,\n",
              " income,\n",
              " was,\n",
              " $,\n",
              " 16.4,\n",
              " billion,\n",
              " GAAP,\n",
              " and,\n",
              " $,\n",
              " 17.4,\n",
              " billion,\n",
              " non,\n",
              " -,\n",
              " GAAP,\n",
              " and,\n",
              " decreased,\n",
              " 12,\n",
              " %,\n",
              " and,\n",
              " 7,\n",
              " %,\n",
              " respectively,\n",
              " Diluted,\n",
              " earnings,\n",
              " per,\n",
              " share,\n",
              " was,\n",
              " $,\n",
              " 2.20,\n",
              " GAAP,\n",
              " and,\n",
              " $,\n",
              " 2.32,\n",
              " non,\n",
              " -,\n",
              " GAAP,\n",
              " and,\n",
              " decreased,\n",
              " 11,\n",
              " %,\n",
              " and,\n",
              " 6,\n",
              " %,\n",
              " respectively]"
            ]
          },
          "metadata": {},
          "execution_count": 46
        }
      ]
    },
    {
      "cell_type": "code",
      "source": [
        "count = doc.count_by(spacy.attrs.POS)\n",
        "count"
      ],
      "metadata": {
        "colab": {
          "base_uri": "https://localhost:8080/"
        },
        "id": "zd7zeuinreAf",
        "outputId": "df90c8d3-736e-4663-b6ef-ffd92e87ed3c"
      },
      "execution_count": 50,
      "outputs": [
        {
          "output_type": "execute_result",
          "data": {
            "text/plain": [
              "{103: 10,\n",
              " 96: 3,\n",
              " 92: 29,\n",
              " 100: 9,\n",
              " 90: 3,\n",
              " 85: 4,\n",
              " 93: 21,\n",
              " 97: 13,\n",
              " 98: 1,\n",
              " 84: 5,\n",
              " 87: 4,\n",
              " 99: 7,\n",
              " 89: 10,\n",
              " 86: 3}"
            ]
          },
          "metadata": {},
          "execution_count": 50
        }
      ]
    },
    {
      "cell_type": "code",
      "source": [
        " doc.vocab[103].text"
      ],
      "metadata": {
        "colab": {
          "base_uri": "https://localhost:8080/",
          "height": 36
        },
        "id": "Oef7mDbR1Hz1",
        "outputId": "e2673fbc-d7dc-4aaf-fd6b-3e69ce7d5b58"
      },
      "execution_count": 53,
      "outputs": [
        {
          "output_type": "execute_result",
          "data": {
            "text/plain": [
              "'SPACE'"
            ],
            "application/vnd.google.colaboratory.intrinsic+json": {
              "type": "string"
            }
          },
          "metadata": {},
          "execution_count": 53
        }
      ]
    },
    {
      "cell_type": "code",
      "source": [
        "for k , v in count.items():\n",
        "  print(doc.vocab[k].text , \" | \" , v)"
      ],
      "metadata": {
        "colab": {
          "base_uri": "https://localhost:8080/"
        },
        "id": "bxqYC5TlG0MD",
        "outputId": "ddd23629-e7e7-4c9a-a3c8-09192921320b"
      },
      "execution_count": 56,
      "outputs": [
        {
          "output_type": "stream",
          "name": "stdout",
          "text": [
            "SPACE  |  10\n",
            "PROPN  |  3\n",
            "NOUN  |  29\n",
            "VERB  |  9\n",
            "DET  |  3\n",
            "ADP  |  4\n",
            "NUM  |  21\n",
            "PUNCT  |  13\n",
            "SCONJ  |  1\n",
            "ADJ  |  5\n",
            "AUX  |  4\n",
            "SYM  |  7\n",
            "CCONJ  |  10\n",
            "ADV  |  3\n"
          ]
        }
      ]
    },
    {
      "cell_type": "code",
      "source": [
        "# Exercise"
      ],
      "metadata": {
        "id": "UPuASl9WHp_W"
      },
      "execution_count": 57,
      "outputs": []
    },
    {
      "cell_type": "code",
      "source": [
        "text = '''Inflation rose again in April, continuing a climb that has pushed consumers to the brink and is threatening the economic expansion, the Bureau of Labor Statistics reported Wednesday.\n",
        "\\n\\nThe consumer price index, a broad-based measure of prices for goods and services, increased 8.3% from a year ago, higher than the Dow Jones estimate for an 8.1% gain. \n",
        "That represented a slight ease from Marchâ€™s peak but was still close to the highest level since the summer of 1982.\\n\\nRemoving volatile food and ene'''\n"
      ],
      "metadata": {
        "id": "ZzshGcXNIc1N"
      },
      "execution_count": 59,
      "outputs": []
    },
    {
      "cell_type": "code",
      "source": [
        "# Extract noun ans num tokens."
      ],
      "metadata": {
        "id": "eY-HbTKXIj9K"
      },
      "execution_count": 60,
      "outputs": []
    },
    {
      "cell_type": "code",
      "source": [
        "doc = nlp(text)\n",
        "\n",
        "num_tokens = []\n",
        "noun_tokens = []\n",
        "\n",
        "for token in doc:\n",
        "  if token.pos_ == \"NOUN\":\n",
        "    noun_tokens.append(token)\n",
        "  elif token.pos_ == \"NUM\":\n",
        "    num_tokens.append(token)"
      ],
      "metadata": {
        "id": "i-rkHd3UJTRo"
      },
      "execution_count": 74,
      "outputs": []
    },
    {
      "cell_type": "code",
      "source": [
        "noun_tokens"
      ],
      "metadata": {
        "colab": {
          "base_uri": "https://localhost:8080/"
        },
        "id": "S1_gHbtOLcsW",
        "outputId": "0541ab29-2432-4755-9850-cc6156631d0b"
      },
      "execution_count": 75,
      "outputs": [
        {
          "output_type": "execute_result",
          "data": {
            "text/plain": [
              "[Inflation,\n",
              " climb,\n",
              " consumers,\n",
              " brink,\n",
              " expansion,\n",
              " consumer,\n",
              " price,\n",
              " index,\n",
              " measure,\n",
              " prices,\n",
              " goods,\n",
              " services,\n",
              " %,\n",
              " year,\n",
              " estimate,\n",
              " %,\n",
              " gain,\n",
              " ease,\n",
              " peak,\n",
              " level,\n",
              " summer,\n",
              " food,\n",
              " ene]"
            ]
          },
          "metadata": {},
          "execution_count": 75
        }
      ]
    },
    {
      "cell_type": "code",
      "source": [
        "num_tokens"
      ],
      "metadata": {
        "colab": {
          "base_uri": "https://localhost:8080/"
        },
        "id": "5DA-BoRBLnyc",
        "outputId": "e09245b5-7993-4f24-87cb-e13f6757c5b6"
      },
      "execution_count": 76,
      "outputs": [
        {
          "output_type": "execute_result",
          "data": {
            "text/plain": [
              "[8.3, 8.1, 1982]"
            ]
          },
          "metadata": {},
          "execution_count": 76
        }
      ]
    },
    {
      "cell_type": "code",
      "source": [
        "count = doc.count_by(spacy.attrs.POS)\n",
        "count"
      ],
      "metadata": {
        "id": "5_x6nuIbK0n-"
      },
      "execution_count": null,
      "outputs": []
    },
    {
      "cell_type": "code",
      "source": [
        "for k , v in count.items():\n",
        "  print(doc.vocab[k].text , \"|\" , v)"
      ],
      "metadata": {
        "colab": {
          "base_uri": "https://localhost:8080/"
        },
        "id": "Tgy0k8eeJySM",
        "outputId": "facde5b4-96bf-408a-9bf8-c68990501387"
      },
      "execution_count": 77,
      "outputs": [
        {
          "output_type": "stream",
          "name": "stdout",
          "text": [
            "NOUN | 23\n",
            "VERB | 9\n",
            "ADV | 4\n",
            "ADP | 11\n",
            "PROPN | 9\n",
            "PUNCT | 9\n",
            "DET | 12\n",
            "PRON | 2\n",
            "AUX | 3\n",
            "CCONJ | 4\n",
            "ADJ | 6\n",
            "SPACE | 3\n",
            "NUM | 3\n",
            "PART | 1\n",
            "SCONJ | 1\n"
          ]
        }
      ]
    },
    {
      "cell_type": "code",
      "source": [
        "# The noun count is 23. The number count is 3. "
      ],
      "metadata": {
        "id": "wDY5ENMuKRh3"
      },
      "execution_count": 78,
      "outputs": []
    },
    {
      "cell_type": "code",
      "source": [],
      "metadata": {
        "id": "tpmZhwvgKgp2"
      },
      "execution_count": null,
      "outputs": []
    }
  ]
}