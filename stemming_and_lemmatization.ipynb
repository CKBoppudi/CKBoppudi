{
  "nbformat": 4,
  "nbformat_minor": 0,
  "metadata": {
    "colab": {
      "provenance": [],
      "authorship_tag": "ABX9TyNDrMZOt3htRJGM2vFSDodR",
      "include_colab_link": true
    },
    "kernelspec": {
      "name": "python3",
      "display_name": "Python 3"
    },
    "language_info": {
      "name": "python"
    }
  },
  "cells": [
    {
      "cell_type": "markdown",
      "metadata": {
        "id": "view-in-github",
        "colab_type": "text"
      },
      "source": [
        "<a href=\"https://colab.research.google.com/github/CKBoppudi/CKBoppudi/blob/main/stemming_and_lemmatization.ipynb\" target=\"_parent\"><img src=\"https://colab.research.google.com/assets/colab-badge.svg\" alt=\"Open In Colab\"/></a>"
      ]
    },
    {
      "cell_type": "code",
      "execution_count": 1,
      "metadata": {
        "colab": {
          "base_uri": "https://localhost:8080/"
        },
        "id": "2ZIRDq_rgY7g",
        "outputId": "a83caaba-85d7-426c-bf89-47506959a81f"
      },
      "outputs": [
        {
          "output_type": "stream",
          "name": "stderr",
          "text": [
            "/usr/local/lib/python3.8/dist-packages/torch/cuda/__init__.py:497: UserWarning: Can't initialize NVML\n",
            "  warnings.warn(\"Can't initialize NVML\")\n"
          ]
        }
      ],
      "source": [
        "import spacy\n",
        "import nltk"
      ]
    },
    {
      "cell_type": "code",
      "source": [
        "# Stemming in nltk."
      ],
      "metadata": {
        "id": "KbPqnEoripvU"
      },
      "execution_count": 9,
      "outputs": []
    },
    {
      "cell_type": "code",
      "source": [
        "from nltk.stem import PorterStemmer\n",
        "stemmer = PorterStemmer()"
      ],
      "metadata": {
        "id": "jCRFfAHOgiJe"
      },
      "execution_count": 10,
      "outputs": []
    },
    {
      "cell_type": "code",
      "source": [
        "words = [\"eating\" , \"bathing\" , \"eats\" , \"eat\" , \"ate\" , \"adjustable\" , \"rafting\" , \"ability\" , \"meeting\"]\n",
        "\n",
        "for word in words:\n",
        "  print(word , \"|\" , stemmer.stem(word))\n"
      ],
      "metadata": {
        "colab": {
          "base_uri": "https://localhost:8080/"
        },
        "id": "smSVq0GPgiL-",
        "outputId": "279bbb5d-7c4b-4b5b-89a6-3f2604639e63"
      },
      "execution_count": 11,
      "outputs": [
        {
          "output_type": "stream",
          "name": "stdout",
          "text": [
            "eating | eat\n",
            "bathing | bath\n",
            "eats | eat\n",
            "eat | eat\n",
            "ate | ate\n",
            "adjustable | adjust\n",
            "rafting | raft\n",
            "ability | abil\n",
            "meeting | meet\n"
          ]
        }
      ]
    },
    {
      "cell_type": "code",
      "source": [
        "# Lemmatization in spacy."
      ],
      "metadata": {
        "id": "qQtrwCGagiOH"
      },
      "execution_count": 12,
      "outputs": []
    },
    {
      "cell_type": "code",
      "source": [
        "nlp = spacy.load(\"en_core_web_sm\")"
      ],
      "metadata": {
        "id": "abGMhcVTgiQR"
      },
      "execution_count": 13,
      "outputs": []
    },
    {
      "cell_type": "code",
      "source": [
        "doc = nlp(\"eating bathing eats eat ate adjustable rafting ability meeting better good excellent great apartment parting different running acting\")\n",
        "\n",
        "for token in doc:\n",
        "  print(token , \"|\" , token.lemma_ , \"|\" , token.lemma)"
      ],
      "metadata": {
        "colab": {
          "base_uri": "https://localhost:8080/"
        },
        "id": "POC-gF-1giSS",
        "outputId": "86b681bf-b5fa-4d1c-ca41-16d85c1d6c39"
      },
      "execution_count": 27,
      "outputs": [
        {
          "output_type": "stream",
          "name": "stdout",
          "text": [
            "eating | eat | 9837207709914848172\n",
            "bathing | bathing | 8249612943818604730\n",
            "eats | eat | 9837207709914848172\n",
            "eat | eat | 9837207709914848172\n",
            "ate | eat | 9837207709914848172\n",
            "adjustable | adjustable | 6033511944150694480\n",
            "rafting | raft | 7154368781129989833\n",
            "ability | ability | 11565809527369121409\n",
            "meeting | meeting | 14798207169164081740\n",
            "better | well | 4525988469032889948\n",
            "good | good | 5711639017775284443\n",
            "excellent | excellent | 11137614687254113498\n",
            "great | great | 8881679497796027013\n",
            "apartment | apartment | 4688128496854652325\n",
            "parting | part | 4485934323942657167\n",
            "different | different | 17379251038783395147\n",
            "running | run | 12767647472892411841\n",
            "acting | acting | 6581239733047197378\n"
          ]
        }
      ]
    },
    {
      "cell_type": "code",
      "source": [
        "doc = nlp(\"mando talked for 3 hours although talking is not his thing he bacame talkative\")\n",
        "\n",
        "for token in doc:\n",
        "  print(token , \"|\" , token.lemma_ , \"|\" , token.lemma)"
      ],
      "metadata": {
        "colab": {
          "base_uri": "https://localhost:8080/"
        },
        "id": "btHJ6EldgiUb",
        "outputId": "61db6c6a-a2c2-4975-f5cf-f037286205d8"
      },
      "execution_count": 30,
      "outputs": [
        {
          "output_type": "stream",
          "name": "stdout",
          "text": [
            "mando | mando | 10991835832878170099\n",
            "talked | talk | 13939146775466599234\n",
            "for | for | 16037325823156266367\n",
            "3 | 3 | 602994839685422785\n",
            "hours | hour | 9748623380567160636\n",
            "although | although | 343236316598008647\n",
            "talking | talking | 3577425109143670181\n",
            "is | be | 10382539506755952630\n",
            "not | not | 447765159362469301\n",
            "his | his | 2661093235354845946\n",
            "thing | thing | 2473243759842082748\n",
            "he | he | 1655312771067108281\n",
            "bacame | bacame | 12209203143915586331\n",
            "talkative | talkative | 13364764166055324990\n"
          ]
        }
      ]
    },
    {
      "cell_type": "code",
      "source": [
        "# attribute ruler in spacy."
      ],
      "metadata": {
        "id": "pmbf8YQ-kewe"
      },
      "execution_count": 31,
      "outputs": []
    },
    {
      "cell_type": "code",
      "source": [
        "nlp.pipe_names"
      ],
      "metadata": {
        "colab": {
          "base_uri": "https://localhost:8080/"
        },
        "id": "7luVGnGnk75f",
        "outputId": "1853a71b-3872-42f9-84e4-1fd916a496af"
      },
      "execution_count": 33,
      "outputs": [
        {
          "output_type": "execute_result",
          "data": {
            "text/plain": [
              "['tok2vec', 'tagger', 'parser', 'attribute_ruler', 'lemmatizer', 'ner']"
            ]
          },
          "metadata": {},
          "execution_count": 33
        }
      ]
    },
    {
      "cell_type": "code",
      "source": [
        "ar = nlp.get_pipe(\"attribute_ruler\")\n",
        "ar.add([[{\"TEXT\" : \"Bro\"}] , [{\"TEXT\" : \"Brah\"}]] , {\"LEMMA\" : \"Brother\"})\n",
        "\n",
        "doc = nlp(\"Bro, you wanna go? Brah, don't say no! I am exhausted\")\n",
        "\n",
        "for token in doc:\n",
        "  print(token , \"|\" , token.lemma_)"
      ],
      "metadata": {
        "colab": {
          "base_uri": "https://localhost:8080/"
        },
        "id": "8E9vFmDAk9WD",
        "outputId": "f7e1c2dc-d728-4352-e8d7-d04b76585673"
      },
      "execution_count": 40,
      "outputs": [
        {
          "output_type": "stream",
          "name": "stdout",
          "text": [
            "Bro | Brother\n",
            ", | ,\n",
            "you | you\n",
            "wanna | wanna\n",
            "go | go\n",
            "? | ?\n",
            "Brah | Brother\n",
            ", | ,\n",
            "do | do\n",
            "n't | not\n",
            "say | say\n",
            "no | no\n",
            "! | !\n",
            "I | I\n",
            "am | be\n",
            "exhausted | exhaust\n"
          ]
        }
      ]
    },
    {
      "cell_type": "code",
      "source": [],
      "metadata": {
        "id": "5DtMRbmXk9hC"
      },
      "execution_count": null,
      "outputs": []
    },
    {
      "cell_type": "code",
      "source": [],
      "metadata": {
        "id": "1WoPweu0k9qU"
      },
      "execution_count": null,
      "outputs": []
    }
  ]
}