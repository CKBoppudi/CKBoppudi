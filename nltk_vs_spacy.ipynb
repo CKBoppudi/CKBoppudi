{
  "nbformat": 4,
  "nbformat_minor": 0,
  "metadata": {
    "colab": {
      "provenance": [],
      "authorship_tag": "ABX9TyO3gbWXEHANICHU9k01XKFk",
      "include_colab_link": true
    },
    "kernelspec": {
      "name": "python3",
      "display_name": "Python 3"
    },
    "language_info": {
      "name": "python"
    }
  },
  "cells": [
    {
      "cell_type": "markdown",
      "metadata": {
        "id": "view-in-github",
        "colab_type": "text"
      },
      "source": [
        "<a href=\"https://colab.research.google.com/github/CKBoppudi/CKBoppudi/blob/main/nltk_vs_spacy.ipynb\" target=\"_parent\"><img src=\"https://colab.research.google.com/assets/colab-badge.svg\" alt=\"Open In Colab\"/></a>"
      ]
    },
    {
      "cell_type": "code",
      "execution_count": null,
      "metadata": {
        "id": "6m-9aD2Vysow"
      },
      "outputs": [],
      "source": [
        "import spacy"
      ]
    },
    {
      "cell_type": "markdown",
      "source": [
        "# spacy"
      ],
      "metadata": {
        "id": "pzFI4rFa1Kw9"
      }
    },
    {
      "cell_type": "code",
      "source": [
        "nlp = spacy.load(\"en_core_web_sm\")"
      ],
      "metadata": {
        "id": "r_Z5QeamyuSz"
      },
      "execution_count": null,
      "outputs": []
    },
    {
      "cell_type": "code",
      "source": [
        "doc = nlp(\"Dr. Strange loves pav bhaji of mumbai. Hulk loves chat of Delhi. Thor loves panipuri of Hyderabad\")"
      ],
      "metadata": {
        "id": "mNqS0hFUyuVJ"
      },
      "execution_count": null,
      "outputs": []
    },
    {
      "cell_type": "code",
      "source": [
        "# Sentence tokenizing in spacy"
      ],
      "metadata": {
        "id": "bpRuxNmI5dR5"
      },
      "execution_count": null,
      "outputs": []
    },
    {
      "cell_type": "code",
      "source": [
        "for sentence in doc.sents:\n",
        "  print(sentence)"
      ],
      "metadata": {
        "colab": {
          "base_uri": "https://localhost:8080/"
        },
        "id": "pkR8kFFiyuXg",
        "outputId": "973b8b3d-110f-4dd7-c432-48aeaa19d051"
      },
      "execution_count": null,
      "outputs": [
        {
          "output_type": "stream",
          "name": "stdout",
          "text": [
            "Dr. Strange loves pav bhaji of mumbai.\n",
            "Hulk loves chat of Delhi.\n",
            "Thor loves panipuri of Hyderabad\n"
          ]
        }
      ]
    },
    {
      "cell_type": "code",
      "source": [
        "# Word tokenizing in spacy"
      ],
      "metadata": {
        "id": "wzSFK8Cn6JF0"
      },
      "execution_count": null,
      "outputs": []
    },
    {
      "cell_type": "code",
      "source": [
        "for sentence in doc.sents:\n",
        "  for word in sentence:\n",
        "    print(word)"
      ],
      "metadata": {
        "colab": {
          "base_uri": "https://localhost:8080/"
        },
        "id": "9MTbBpK059au",
        "outputId": "cc28ae39-1c37-48e2-d5f4-563cabc184f2"
      },
      "execution_count": null,
      "outputs": [
        {
          "output_type": "stream",
          "name": "stdout",
          "text": [
            "Dr.\n",
            "Strange\n",
            "loves\n",
            "pav\n",
            "bhaji\n",
            "of\n",
            "mumbai\n",
            ".\n",
            "Hulk\n",
            "loves\n",
            "chat\n",
            "of\n",
            "Delhi\n",
            ".\n",
            "Thor\n",
            "loves\n",
            "panipuri\n",
            "of\n",
            "Hyderabad\n"
          ]
        }
      ]
    },
    {
      "cell_type": "code",
      "source": [
        "# nltk"
      ],
      "metadata": {
        "id": "HdkSawKPyucv"
      },
      "execution_count": null,
      "outputs": []
    },
    {
      "cell_type": "code",
      "source": [
        "import nltk\n",
        "from nltk.tokenize import sent_tokenize, word_tokenize"
      ],
      "metadata": {
        "id": "wZhPppuYyufF"
      },
      "execution_count": null,
      "outputs": []
    },
    {
      "cell_type": "code",
      "source": [
        "nltk.download('averaged_perceptron_tagger')"
      ],
      "metadata": {
        "colab": {
          "base_uri": "https://localhost:8080/"
        },
        "id": "UaMikGwx27Tu",
        "outputId": "b7646257-4660-4a7a-889c-eb54fef705be"
      },
      "execution_count": null,
      "outputs": [
        {
          "output_type": "stream",
          "name": "stderr",
          "text": [
            "[nltk_data] Downloading package averaged_perceptron_tagger to\n",
            "[nltk_data]     /root/nltk_data...\n",
            "[nltk_data]   Unzipping taggers/averaged_perceptron_tagger.zip.\n"
          ]
        },
        {
          "output_type": "execute_result",
          "data": {
            "text/plain": [
              "True"
            ]
          },
          "metadata": {},
          "execution_count": 20
        }
      ]
    },
    {
      "cell_type": "code",
      "source": [
        "nltk.download(\"all\")"
      ],
      "metadata": {
        "id": "CPUuBRLa3Zjz"
      },
      "execution_count": null,
      "outputs": []
    },
    {
      "cell_type": "code",
      "source": [
        "sent_tokenize(\"Dr. Strange loves pav bhaji of mumbai. Hulk loves chat of Delhi. Thor loves panipuri of Hyderabad\")"
      ],
      "metadata": {
        "colab": {
          "base_uri": "https://localhost:8080/"
        },
        "id": "r7cyF74Nyuid",
        "outputId": "2c6d5954-75bf-47ca-c7c7-0553dda220e9"
      },
      "execution_count": null,
      "outputs": [
        {
          "output_type": "execute_result",
          "data": {
            "text/plain": [
              "['Dr.',\n",
              " 'Strange loves pav bhaji of mumbai.',\n",
              " 'Hulk loves chat of Delhi.',\n",
              " 'Thor loves panipuri of Hyderabad']"
            ]
          },
          "metadata": {},
          "execution_count": 40
        }
      ]
    },
    {
      "cell_type": "code",
      "source": [
        "word_tokenize(\"Dr. Strange loves pav bhaji of mumbai. Hulk loves chat of Delhi. Thor loves panipuri of Hyderabad\")"
      ],
      "metadata": {
        "colab": {
          "base_uri": "https://localhost:8080/"
        },
        "id": "jLoiyeoq03zz",
        "outputId": "99044e2a-a825-40c3-d65b-66499d491b6c"
      },
      "execution_count": null,
      "outputs": [
        {
          "output_type": "execute_result",
          "data": {
            "text/plain": [
              "['Dr',\n",
              " '.',\n",
              " 'Strange',\n",
              " 'loves',\n",
              " 'pav',\n",
              " 'bhaji',\n",
              " 'of',\n",
              " 'mumbai',\n",
              " '.',\n",
              " 'Hulk',\n",
              " 'loves',\n",
              " 'chat',\n",
              " 'of',\n",
              " 'Delhi',\n",
              " '.',\n",
              " 'Thor',\n",
              " 'loves',\n",
              " 'panipuri',\n",
              " 'of',\n",
              " 'Hyderabad']"
            ]
          },
          "metadata": {},
          "execution_count": 41
        }
      ]
    },
    {
      "cell_type": "code",
      "source": [
        "# Sentence tokenization in spacy"
      ],
      "metadata": {
        "id": "_mc-_dHT04Fa"
      },
      "execution_count": null,
      "outputs": []
    },
    {
      "cell_type": "code",
      "source": [
        " nlp = spacy.load(\"en_core_web_sm\")"
      ],
      "metadata": {
        "id": "B-upNoK304SK"
      },
      "execution_count": null,
      "outputs": []
    },
    {
      "cell_type": "code",
      "source": [
        "doc = nlp(\"lets go to N.Y\")"
      ],
      "metadata": {
        "id": "anN-Wimf7CAC"
      },
      "execution_count": null,
      "outputs": []
    },
    {
      "cell_type": "code",
      "source": [
        "# Sentence tokenization"
      ],
      "metadata": {
        "id": "4-OjSy3NAF0-"
      },
      "execution_count": null,
      "outputs": []
    },
    {
      "cell_type": "code",
      "source": [
        "for sentence in doc.sents:\n",
        "  print(sentence)"
      ],
      "metadata": {
        "colab": {
          "base_uri": "https://localhost:8080/"
        },
        "id": "3E46AiOz7CCm",
        "outputId": "2010b242-4882-4e00-e165-7ea6eaf6a91c"
      },
      "execution_count": null,
      "outputs": [
        {
          "output_type": "stream",
          "name": "stdout",
          "text": [
            "lets go to N.Y\n"
          ]
        }
      ]
    },
    {
      "cell_type": "code",
      "source": [
        "# Word tokenization"
      ],
      "metadata": {
        "id": "p3G7Og3eAKMs"
      },
      "execution_count": null,
      "outputs": []
    },
    {
      "cell_type": "code",
      "source": [
        "for word in doc:\n",
        "  print(word)"
      ],
      "metadata": {
        "colab": {
          "base_uri": "https://localhost:8080/"
        },
        "id": "R4UXCb-k7CFF",
        "outputId": "39750bbb-b377-48a6-8bd8-f2f308caba3f"
      },
      "execution_count": null,
      "outputs": [
        {
          "output_type": "stream",
          "name": "stdout",
          "text": [
            "lets\n",
            "go\n",
            "to\n",
            "N.Y\n"
          ]
        }
      ]
    },
    {
      "cell_type": "code",
      "source": [
        "type(nlp)"
      ],
      "metadata": {
        "colab": {
          "base_uri": "https://localhost:8080/"
        },
        "id": "gYWP3kYO7CHY",
        "outputId": "1947dccf-91e1-4359-d905-6aa318eda08c"
      },
      "execution_count": null,
      "outputs": [
        {
          "output_type": "execute_result",
          "data": {
            "text/plain": [
              "spacy.lang.en.English"
            ]
          },
          "metadata": {},
          "execution_count": 74
        }
      ]
    },
    {
      "cell_type": "code",
      "source": [
        "type(doc)"
      ],
      "metadata": {
        "colab": {
          "base_uri": "https://localhost:8080/"
        },
        "id": "KiZHzA3F7CKH",
        "outputId": "6825f977-7b6c-44c7-9ae4-d3603cea06e5"
      },
      "execution_count": null,
      "outputs": [
        {
          "output_type": "execute_result",
          "data": {
            "text/plain": [
              "spacy.tokens.doc.Doc"
            ]
          },
          "metadata": {},
          "execution_count": 75
        }
      ]
    },
    {
      "cell_type": "code",
      "source": [
        "type(word)"
      ],
      "metadata": {
        "colab": {
          "base_uri": "https://localhost:8080/"
        },
        "id": "cBLn2aZr7CM2",
        "outputId": "af0df18f-b5d6-42b3-f3e0-d24bef03d2a8"
      },
      "execution_count": null,
      "outputs": [
        {
          "output_type": "execute_result",
          "data": {
            "text/plain": [
              "spacy.tokens.token.Token"
            ]
          },
          "metadata": {},
          "execution_count": 76
        }
      ]
    },
    {
      "cell_type": "code",
      "source": [
        "token0 = doc[0]\n",
        "token0"
      ],
      "metadata": {
        "colab": {
          "base_uri": "https://localhost:8080/"
        },
        "id": "dQBlL9YY7CPP",
        "outputId": "fa434861-6efb-4b9c-e52a-c7bf00cd6d27"
      },
      "execution_count": null,
      "outputs": [
        {
          "output_type": "execute_result",
          "data": {
            "text/plain": [
              "lets"
            ]
          },
          "metadata": {},
          "execution_count": 80
        }
      ]
    },
    {
      "cell_type": "code",
      "source": [
        "dir(token0)"
      ],
      "metadata": {
        "id": "cqXxENIk7CS3"
      },
      "execution_count": null,
      "outputs": []
    },
    {
      "cell_type": "code",
      "source": [
        "doc = nlp(\"tony gave two $ to peter\")"
      ],
      "metadata": {
        "id": "W8HFfWkdDhGO"
      },
      "execution_count": null,
      "outputs": []
    },
    {
      "cell_type": "code",
      "source": [
        "token0 = doc[0]\n",
        "print(token0)\n",
        "token1 = doc[1]\n",
        "print(token1)\n",
        "token2 = doc[2]\n",
        "print(token2)\n",
        "token3 = doc[3]\n",
        "print(token3)\n",
        "token4 = doc[4]\n",
        "print(token4)\n",
        "token5 = doc[5]\n",
        "print(token5)"
      ],
      "metadata": {
        "colab": {
          "base_uri": "https://localhost:8080/"
        },
        "id": "wytM2HQcErCc",
        "outputId": "d6e6ea28-d172-4bab-ecd5-78eb10f672df"
      },
      "execution_count": null,
      "outputs": [
        {
          "output_type": "stream",
          "name": "stdout",
          "text": [
            "tony\n",
            "gave\n",
            "two\n",
            "$\n",
            "to\n",
            "peter\n"
          ]
        }
      ]
    },
    {
      "cell_type": "code",
      "source": [
        "token2.like_num"
      ],
      "metadata": {
        "colab": {
          "base_uri": "https://localhost:8080/"
        },
        "id": "LPAX7ER-Euwp",
        "outputId": "006473fb-ba52-4a9c-b12d-980763b83c11"
      },
      "execution_count": null,
      "outputs": [
        {
          "output_type": "execute_result",
          "data": {
            "text/plain": [
              "True"
            ]
          },
          "metadata": {},
          "execution_count": 91
        }
      ]
    },
    {
      "cell_type": "code",
      "source": [
        "for token in doc:\n",
        "  print(token , \"====>>\" ,\n",
        "        \"index:\",  token.i ,\n",
        "        \"is_alpha:\" , token.is_alpha, \n",
        "        \"is_currency:\" , token.is_currency, \n",
        "        \"is_punct:\" , token.is_punct, \n",
        "        \"like_num:\" , token.like_num)"
      ],
      "metadata": {
        "colab": {
          "base_uri": "https://localhost:8080/"
        },
        "id": "14oA7DuOE0N5",
        "outputId": "cdfe8e35-8097-4e41-932a-26b058dd28f0"
      },
      "execution_count": null,
      "outputs": [
        {
          "output_type": "stream",
          "name": "stdout",
          "text": [
            "tony ====>> index: 0 is_alpha: True is_currency: False is_punct: False like_num: False\n",
            "gave ====>> index: 1 is_alpha: True is_currency: False is_punct: False like_num: False\n",
            "two ====>> index: 2 is_alpha: True is_currency: False is_punct: False like_num: True\n",
            "$ ====>> index: 3 is_alpha: False is_currency: True is_punct: False like_num: False\n",
            "to ====>> index: 4 is_alpha: True is_currency: False is_punct: False like_num: False\n",
            "peter ====>> index: 5 is_alpha: True is_currency: False is_punct: False like_num: False\n"
          ]
        }
      ]
    },
    {
      "cell_type": "code",
      "source": [
        "with open(\"/content/Wadhwani problem.txt\") as f:\n",
        "  text = f.readlines()"
      ],
      "metadata": {
        "id": "9uwxJih0Hn1Y"
      },
      "execution_count": null,
      "outputs": []
    },
    {
      "cell_type": "code",
      "source": [
        "text"
      ],
      "metadata": {
        "colab": {
          "base_uri": "https://localhost:8080/"
        },
        "id": "Yr55BvOIM9-V",
        "outputId": "fcf886cd-b7ef-4f00-fdf9-8b968fdef091"
      },
      "execution_count": null,
      "outputs": [
        {
          "output_type": "execute_result",
          "data": {
            "text/plain": [
              "['Actual/Predicted\\t\\t\\n',\n",
              " 'Positive (have cancer)\\n',\n",
              " \"Negative (don't have cancer)\\n\",\n",
              " 'Positive (have cancer)\\n',\n",
              " '0 (True-Positive)\\n',\n",
              " '100 (False-Negative)\\n',\n",
              " \"Negative (don't have cancer)\\n\",\n",
              " '0 (False-Positive)\\n',\n",
              " '900 (True-Negative)\\n',\n",
              " '\\n',\n",
              " '\\n',\n",
              " 'Total 1000 samples\\n',\n",
              " 'Model prediction: 0 cancer, 1000 no cancer\\n',\n",
              " 'Actual: 100 cancer, 900 no cancer\\n',\n",
              " '\\n',\n",
              " 'Explanation:\\n',\n",
              " '\\n',\n",
              " 'For True-positive, the actual patients with cancer are “100” but the model predicted that “0” have cancer. So the answer is “0”.\\n',\n",
              " 'For False-Negative, The actual patients “have cancer” are “100” but the model predicted them as “dont have cancer”. So the answer is “100”.\\n',\n",
              " \"For False-positive, the patients “don't have cancer” are “900” but the model predicted them as “have cancer” are “0”. So the answer is “0”.\\n\",\n",
              " \"For True-Negative, the patients that “don't have cancer” are “900” and the model predicted that “1000” dont have cancer. So the answer is “900”.\\n\",\n",
              " 'Emails\\n',\n",
              " 'somecxy_gabriel@vby.com\\n',\n",
              " 'susan_hgts@truvy.io\\n',\n",
              " 'hello.world@hsudt.in']"
            ]
          },
          "metadata": {},
          "execution_count": 97
        }
      ]
    },
    {
      "cell_type": "code",
      "source": [
        "text = \" \".join(text)"
      ],
      "metadata": {
        "id": "nvvE-GAiNJ-o"
      },
      "execution_count": null,
      "outputs": []
    },
    {
      "cell_type": "code",
      "source": [
        "text"
      ],
      "metadata": {
        "colab": {
          "base_uri": "https://localhost:8080/",
          "height": 140
        },
        "id": "4t62rVqXNmRK",
        "outputId": "9b4b2cca-9db6-4623-b70d-de40b02a2ad6"
      },
      "execution_count": null,
      "outputs": [
        {
          "output_type": "execute_result",
          "data": {
            "text/plain": [
              "\"Actual/Predicted\\t\\t\\n Positive (have cancer)\\n Negative (don't have cancer)\\n Positive (have cancer)\\n 0 (True-Positive)\\n 100 (False-Negative)\\n Negative (don't have cancer)\\n 0 (False-Positive)\\n 900 (True-Negative)\\n \\n \\n Total 1000 samples\\n Model prediction: 0 cancer, 1000 no cancer\\n Actual: 100 cancer, 900 no cancer\\n \\n Explanation:\\n \\n For True-positive, the actual patients with cancer are “100” but the model predicted that “0” have cancer. So the answer is “0”.\\n For False-Negative, The actual patients “have cancer” are “100” but the model predicted them as “dont have cancer”. So the answer is “100”.\\n For False-positive, the patients “don't have cancer” are “900” but the model predicted them as “have cancer” are “0”. So the answer is “0”.\\n For True-Negative, the patients that “don't have cancer” are “900” and the model predicted that “1000” dont have cancer. So the answer is “900”.\\n Emails\\n somecxy_gabriel@vby.com\\n susan_hgts@truvy.io\\n hello.world@hsudt.in\""
            ],
            "application/vnd.google.colaboratory.intrinsic+json": {
              "type": "string"
            }
          },
          "metadata": {},
          "execution_count": 99
        }
      ]
    },
    {
      "cell_type": "code",
      "source": [
        "doc = nlp(text)"
      ],
      "metadata": {
        "id": "-7ouVB-YNnO3"
      },
      "execution_count": null,
      "outputs": []
    },
    {
      "cell_type": "code",
      "source": [
        "for token in doc:\n",
        "  if token.like_email:\n",
        "    print(token)"
      ],
      "metadata": {
        "colab": {
          "base_uri": "https://localhost:8080/"
        },
        "id": "wzBTOx5oN6Mr",
        "outputId": "245d935a-9c44-45cc-853c-c1aff113ed6d"
      },
      "execution_count": null,
      "outputs": [
        {
          "output_type": "stream",
          "name": "stdout",
          "text": [
            "somecxy_gabriel@vby.com\n",
            "susan_hgts@truvy.io\n",
            "hello.world@hsudt.in\n"
          ]
        }
      ]
    },
    {
      "cell_type": "code",
      "source": [
        "# Exercise - 1\n",
        "\n",
        "# This book has references to many websites from where you can download free datasets. \n",
        "# You are an NLP engineer working for some company and you want to collect all dataset websites from this book. \n",
        "# To keep exercise simple you are given a paragraph from this book and you want to grab all urls from this paragraph using spacy"
      ],
      "metadata": {
        "id": "OOmRpGjxOAP5"
      },
      "execution_count": null,
      "outputs": []
    },
    {
      "cell_type": "code",
      "source": [
        "text='''\n",
        "Look for data to help you address the question. Governments are good\n",
        "sources because data from public research is often freely available. Good\n",
        "places to start include http://www.data.gov/, and http://www.science.\n",
        "gov/, and in the United Kingdom, http://data.gov.uk/.\n",
        "Two of my favorite data sets are the General Social Survey at http://www3.norc.org/gss+website/, \n",
        "and the European Social Survey at http://www.europeansocialsurvey.org/.\n",
        "'''"
      ],
      "metadata": {
        "id": "_o0ZkrbSPw0T"
      },
      "execution_count": null,
      "outputs": []
    },
    {
      "cell_type": "code",
      "source": [
        "doc = nlp(text)"
      ],
      "metadata": {
        "id": "Dn6xiZbyI-ML"
      },
      "execution_count": null,
      "outputs": []
    },
    {
      "cell_type": "code",
      "source": [
        "for token in doc:\n",
        "  if token.like_url:\n",
        "    print(token)"
      ],
      "metadata": {
        "colab": {
          "base_uri": "https://localhost:8080/"
        },
        "id": "dKBYFaIcJAFA",
        "outputId": "a868673b-c7cd-4081-9fbb-aa2d4a9bc640"
      },
      "execution_count": null,
      "outputs": [
        {
          "output_type": "stream",
          "name": "stdout",
          "text": [
            "http://www.data.gov/\n",
            "http://www.science\n",
            "http://data.gov.uk/.\n",
            "http://www3.norc.org/gss+website/\n",
            "http://www.europeansocialsurvey.org/.\n"
          ]
        }
      ]
    },
    {
      "cell_type": "code",
      "source": [
        "# Exercise - 2"
      ],
      "metadata": {
        "id": "4CqFPF9fK8iT"
      },
      "execution_count": null,
      "outputs": []
    },
    {
      "cell_type": "code",
      "source": [
        "transactions = \"Tony gave two $ to Peter. Bruce gave 500 € to Steve\"\n",
        "\n",
        "# TODO: Write code here\n",
        "# Hint: Use token.i for the index of a token and token.is_currency for currency symbol detection"
      ],
      "metadata": {
        "id": "d5Nn6TD-LS_m"
      },
      "execution_count": null,
      "outputs": []
    },
    {
      "cell_type": "code",
      "source": [
        "doc = nlp(transactions)"
      ],
      "metadata": {
        "id": "I2ysz2Wba-Al"
      },
      "execution_count": null,
      "outputs": []
    },
    {
      "cell_type": "code",
      "source": [
        "for index , token in enumerate(doc):\n",
        "  if token.like_num:\n",
        "    print(token , doc[index + 1])"
      ],
      "metadata": {
        "colab": {
          "base_uri": "https://localhost:8080/"
        },
        "id": "osurWNa-LzVs",
        "outputId": "114c38a4-4500-49bc-cd9b-39c061283684"
      },
      "execution_count": null,
      "outputs": [
        {
          "output_type": "stream",
          "name": "stdout",
          "text": [
            "two $\n",
            "500 €\n"
          ]
        }
      ]
    },
    {
      "cell_type": "code",
      "source": [],
      "metadata": {
        "id": "CbkBWTdWbouL"
      },
      "execution_count": null,
      "outputs": []
    }
  ]
}