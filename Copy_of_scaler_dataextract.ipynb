{
  "nbformat": 4,
  "nbformat_minor": 0,
  "metadata": {
    "colab": {
      "provenance": [],
      "authorship_tag": "ABX9TyMc7zrwK9xmR0RVPvqRGXl9",
      "include_colab_link": true
    },
    "kernelspec": {
      "name": "python3",
      "display_name": "Python 3"
    },
    "language_info": {
      "name": "python"
    }
  },
  "cells": [
    {
      "cell_type": "markdown",
      "metadata": {
        "id": "view-in-github",
        "colab_type": "text"
      },
      "source": [
        "<a href=\"https://colab.research.google.com/github/CKBoppudi/CKBoppudi/blob/main/Copy_of_scaler_dataextract.ipynb\" target=\"_parent\"><img src=\"https://colab.research.google.com/assets/colab-badge.svg\" alt=\"Open In Colab\"/></a>"
      ]
    },
    {
      "cell_type": "code",
      "execution_count": null,
      "metadata": {
        "colab": {
          "base_uri": "https://localhost:8080/",
          "height": 557
        },
        "id": "hSqrzI64k2VB",
        "outputId": "1659252c-5865-4729-b4c3-f087eef6b123"
      },
      "outputs": [
        {
          "output_type": "stream",
          "name": "stdout",
          "text": [
            "Looking in indexes: https://pypi.org/simple, https://us-python.pkg.dev/colab-wheels/public/simple/\n",
            "Collecting pdfplumber\n",
            "  Downloading pdfplumber-0.7.5-py3-none-any.whl (40 kB)\n",
            "\u001b[K     |████████████████████████████████| 40 kB 3.2 MB/s \n",
            "\u001b[?25hCollecting Wand>=0.6.10\n",
            "  Downloading Wand-0.6.10-py2.py3-none-any.whl (142 kB)\n",
            "\u001b[K     |████████████████████████████████| 142 kB 6.9 MB/s \n",
            "\u001b[?25hCollecting pdfminer.six==20220524\n",
            "  Downloading pdfminer.six-20220524-py3-none-any.whl (5.6 MB)\n",
            "\u001b[K     |████████████████████████████████| 5.6 MB 52.6 MB/s \n",
            "\u001b[?25hCollecting Pillow>=9.1\n",
            "  Downloading Pillow-9.3.0-cp37-cp37m-manylinux_2_17_x86_64.manylinux2014_x86_64.whl (3.2 MB)\n",
            "\u001b[K     |████████████████████████████████| 3.2 MB 39.5 MB/s \n",
            "\u001b[?25hRequirement already satisfied: charset-normalizer>=2.0.0 in /usr/local/lib/python3.7/dist-packages (from pdfminer.six==20220524->pdfplumber) (2.1.1)\n",
            "Collecting cryptography>=36.0.0\n",
            "  Downloading cryptography-38.0.3-cp36-abi3-manylinux_2_24_x86_64.whl (4.1 MB)\n",
            "\u001b[K     |████████████████████████████████| 4.1 MB 42.4 MB/s \n",
            "\u001b[?25hRequirement already satisfied: cffi>=1.12 in /usr/local/lib/python3.7/dist-packages (from cryptography>=36.0.0->pdfminer.six==20220524->pdfplumber) (1.15.1)\n",
            "Requirement already satisfied: pycparser in /usr/local/lib/python3.7/dist-packages (from cffi>=1.12->cryptography>=36.0.0->pdfminer.six==20220524->pdfplumber) (2.21)\n",
            "Installing collected packages: cryptography, Wand, Pillow, pdfminer.six, pdfplumber\n",
            "  Attempting uninstall: Pillow\n",
            "    Found existing installation: Pillow 7.1.2\n",
            "    Uninstalling Pillow-7.1.2:\n",
            "      Successfully uninstalled Pillow-7.1.2\n",
            "Successfully installed Pillow-9.3.0 Wand-0.6.10 cryptography-38.0.3 pdfminer.six-20220524 pdfplumber-0.7.5\n"
          ]
        },
        {
          "output_type": "display_data",
          "data": {
            "application/vnd.colab-display-data+json": {
              "pip_warning": {
                "packages": [
                  "PIL"
                ]
              }
            }
          },
          "metadata": {}
        }
      ],
      "source": [
        "!pip install pdfplumber"
      ]
    },
    {
      "cell_type": "code",
      "source": [
        "import regex as re\n",
        "import pdfplumber"
      ],
      "metadata": {
        "id": "Me_5oEqWk8_q"
      },
      "execution_count": null,
      "outputs": []
    },
    {
      "cell_type": "code",
      "source": [
        "brochure_data = pdfplumber.open(\"/content/DSML-Brochure-Scaler.pdf\")"
      ],
      "metadata": {
        "id": "i1WInMn3lNq2"
      },
      "execution_count": null,
      "outputs": []
    },
    {
      "cell_type": "code",
      "source": [
        "# No .of pages in the data."
      ],
      "metadata": {
        "id": "4n_XkA3ros3p"
      },
      "execution_count": null,
      "outputs": []
    },
    {
      "cell_type": "code",
      "source": [
        "brochure_data.pages"
      ],
      "metadata": {
        "colab": {
          "base_uri": "https://localhost:8080/"
        },
        "id": "Tf2pxI0dlcRn",
        "outputId": "92cdce79-9ddd-45ff-fe16-b321129d4c98"
      },
      "execution_count": null,
      "outputs": [
        {
          "output_type": "execute_result",
          "data": {
            "text/plain": [
              "[<Page:1>,\n",
              " <Page:2>,\n",
              " <Page:3>,\n",
              " <Page:4>,\n",
              " <Page:5>,\n",
              " <Page:6>,\n",
              " <Page:7>,\n",
              " <Page:8>,\n",
              " <Page:9>,\n",
              " <Page:10>,\n",
              " <Page:11>,\n",
              " <Page:12>,\n",
              " <Page:13>,\n",
              " <Page:14>,\n",
              " <Page:15>,\n",
              " <Page:16>,\n",
              " <Page:17>,\n",
              " <Page:18>,\n",
              " <Page:19>,\n",
              " <Page:20>,\n",
              " <Page:21>,\n",
              " <Page:22>,\n",
              " <Page:23>,\n",
              " <Page:24>,\n",
              " <Page:25>]"
            ]
          },
          "metadata": {},
          "execution_count": 7
        }
      ]
    },
    {
      "cell_type": "code",
      "source": [
        "for i in brochure_data.pages:\n",
        "  print(i.extract_text())"
      ],
      "metadata": {
        "colab": {
          "base_uri": "https://localhost:8080/"
        },
        "id": "-5xlDx4soO80",
        "outputId": "594d52e0-2d9e-4e02-ae2b-a1543b40ae99"
      },
      "execution_count": null,
      "outputs": [
        {
          "output_type": "stream",
          "name": "stdout",
          "text": [
            "\n",
            "About\n",
            " Scaler\n",
            "Scaler, powered by InterviewBit, is an outcome-focussed leading \n",
            "ed-tech platform for tech professionals. Our industry-vetted \n",
            "approach towards teaching and training young minds helps them \n",
            "upskill and bag the career of their dreams. We are a transformative \n",
            "learning platform devoted towards creating a growth ecosystem \n",
            "to assist software professionals in unlocking their talent and \n",
            "seizing opportunities at every stage of their careers. Learners \n",
            "enroled with us are taught, guided, and mentored by top \n",
            "professionals and experts working at leading organizations \n",
            "including Google, Facebook, Intuit, Microsoft, Amazon, Hotstar, etc. \n",
            "Our learners have witnessed a 5x RoI (Return on Investment) from \n",
            "our program. Our offerings include - Scaler Academy and Scaler \n",
            "Data Science.\n",
            "Index\n",
            "03\n",
            "Data Science Overview\n",
            "Fit For Data Science 05\n",
            "Scaler Advantage 06\n",
            "Curriculum Outline 07\n",
            "08\n",
            "Meet your Instructors\n",
            "11\n",
            "Who are the Mentors\n",
            "12\n",
            "The Advisory Commitee\n",
            "13\n",
            "Scaler Support & Network\n",
            "14\n",
            "Fee Structure\n",
            "Curriculum Deep Dive 15\n",
            " \n",
            "DATA SCIENCE\n",
            "OVERVIEW\n",
            "About\n",
            "of professionals wish\n",
            "95% to understand business\n",
            "Industry\n",
            "problems better\n",
            "stumbled as they\n",
            "Insights\n",
            "80%\n",
            "began working with\n",
            "real-world datasets\n",
            "The large percentage indicates a clear gap between classroom \n",
            "teachings and industry applications. Enter Scaler.\n",
            "Scaler Data Science is a program curated to help you kick-start your \n",
            "career in Data Science & Machine Learning. We’ll make you \n",
            "industry-ready through a rigorous curriculum taught by industry \n",
            "veterans who’ll mentor you as you headway towards growth. With \n",
            "our support, you can #CreateImpact in your career and the Data \n",
            "Science world. \n",
            "Scaler Data Science is designed after procuring industry insights \n",
            "from 100 Data Science & Machine Learning Engineers who come \n",
            "from top 50 tech companies and startups. You’ll gain the needed \n",
            "exposure as you work on 80+ Business Case Studies built in \n",
            "partnership with the top companies. Your skills clubbed with our \n",
            "industry expertise will take your Upskilling game to the next level.\n",
            "03\n",
            "DATA SCIENCE\n",
            "OVERVIEW\n",
            "Structured,\n",
            "Industry-vetted Curriculum\n",
            "Live Classes with product\n",
            "industry veterans\n",
            "Hyper-personalised\n",
            "Scaler Program\n",
            "Experience\n",
            "Highlights\n",
            "Here’s what you can\n",
            "expect as you go about Regular 1:1 Mentorship\n",
            "upskilling your career\n",
            "with Scaler\n",
            "80+ Business Case Studies\n",
            "with Real-world Datasets\n",
            "20K+ Scaler Learners &\n",
            "Alumni Network\n",
            "A dedicated team\n",
            "of Recruiters\n",
            "600+ Partner Employers &\n",
            "Placement Assistance\n",
            "04\n",
            "FIT FOR\n",
            "DATA SCIENCE\n",
            "WHERE WILL YOU FIT IN\n",
            "SCALER DATA SCIENCE?\n",
            "Our program ensures that you get to grips with the knowledge and \n",
            "conﬁdence to overcome the most formidable challenges a Data Science or \n",
            "Machine Learning engineer can encounter in their journey from day one. \n",
            "Entry Points based on your performance in our Coding Entrance Test:\n",
            "Start from\n",
            "Beginner Module\n",
            "Recommended for Non-Coders \n",
            "A 13 month track with  Start from\n",
            "a 1 month beginner \n",
            "Intermediate Module\n",
            "module.\n",
            "Recommended for 0-2 years\n",
            "Start from\n",
            "of Coding Experience\n",
            "Core Module\n",
            "A 12 month track for \n",
            "those with minimal \n",
            "Recommended for 2+ years of\n",
            "exposure to DSA.  Coding Experience\n",
            "A 7-10 month \n",
            "Advanced track with \n",
            "Data Science Core.\n",
            "Data Science is the nucleus of business,\n",
            "and we spare no effort to put you at the center of it.\n",
            "05\n",
            "SCALER\n",
            "ADVANTAGE\n",
            "ADDING SCALER SPICE TO DATA SCIENCE \n",
            "As a Data Scientist, you’ll be using data to solve real-life business problems. \n",
            "Scaler will build your skill to understand business and industry.\n",
            "Assess your conceptual understanding as you work on\n",
            "with datasets from real companies\n",
            "80 Business Case Studies \n",
            "Discuss problems in   sessions \n",
            "Live Case Study Discussion\n",
            "weekly with a Data Scientist\n",
            "Gain a fresh perspective from the submission of your peers \n",
            "on a private   and understand a different \n",
            "Discussion Forum\n",
            "problem-solving approach\n",
            "Stay updated about grades, attendance, streak through the \n",
            " on your Dashboard\n",
            "Live Progress Report Card\n",
            "Stay on the track with   - failing which will \n",
            "clear deadlines\n",
            "incur a penalty\n",
            "Immediate   of your assignments to help assess \n",
            "evaluation\n",
            "your progress amongst your peers\n",
            "Earn   for your dedication & effort to cover up for \n",
            "extra credit\n",
            "the unanticipated gaps in your performance\n",
            "Learn at your pace with the   to pause your course \n",
            "ﬂexibility\n",
            "anytime you want\n",
            "06\n",
            "CURRICULUM\n",
            "OUTLINE\n",
            "CURRICULUM THAT COMPLEMENTS\n",
            "YOUR CAREER\n",
            "TOPIC TOTAL LECTURES TOTAL DURATION\n",
            "Beginner Programming 12 4 Weeks (1 Month)\n",
            "Intermediate Programming 12 4 Weeks (1 Month)\n",
            "Common Core for DSML 42 14 Weeks (3.5 Months)\n",
            "SPECIALISATION\n",
            "TOPIC TOTAL LECTURES TOTAL DURATION\n",
            "Data Science & Analytics 43 14 Weeks (3.5 Months)\n",
            "(OR)\n",
            "Data Science & Machine Learning 62 21 Weeks (5 Months)\n",
            "Advanced Programming (OPTIONAL) 35 12 Weeks (3 Months)\n",
            "Placement Assistance module begins a month prior to the module.\n",
            "The highlight of Scaler Data Science is the placement assistance by our Careers Team. We’ll \n",
            "help you with job opportunities & you can grasp the know-how of DSA Advanced alongside.\n",
            "DSA PROGRAMMING\n",
            "How do you think great engineers are 100x more efﬁcient than mediocre \n",
            "ones? No, they don’t solve faster but solve problems in the simplest way. \n",
            "Being well-versed with DSA amps up your problem-solving skills, which is \n",
            "essential to ace interviews - for both Data Science & Machine Learning roles. \n",
            "Want to take a deeper dive into our curriculum?\n",
            "Check it out on Page 15 - 24.\n",
            "07\n",
            "MEET YOUR\n",
            "INSTRUCTORS\n",
            "LEARN FROM EXPERTS\n",
            "WHO’VE BEEN THERE, DONE THAT!\n",
            "Wear your learner’s hat as our Industry Experts walk you through every \n",
            "concept with a fresh perspective. Have a look at our teaching army \n",
            "who’ll impart industry wisdom so that you gain real-world exposure.\n",
            "Mudit Goel\n",
            "Ex -               ,  \n",
            "At LinkedIn and Intuit, Mudit was granted patents by \n",
            "the US Government. He led the Data Science team at \n",
            "D2L (ranked among the most innovative companies in \n",
            "Data Science). Mudit founded Coding Elements, which \n",
            "was selected by the Govt. of India to teach coding to 2 \n",
            "Million students. He currently leads the Data Science \n",
            "and ML program at Scaler.\n",
            "Anant Mittal\n",
            "As a researcher at the University of Maryland, he \n",
            "worked on cutting-edge systems to ﬁnd biomarkers of \n",
            "task activities in the brain. He designed and developed \n",
            "COVID-19 & hygiene-related analytics solutions such as \n",
            "temperature screening and violations related to \n",
            "preventive measures.\n",
            "08\n",
            "MEET YOUR\n",
            "INSTRUCTORS\n",
            "Srikanth Varma\n",
            "Ex - Lead Machine Learning Scientist,\n",
            "Srikanth enjoys teaching and loves solving problems \n",
            "that matter, by building products and services from \n",
            "the ground up. He is a lifelong learner, tinkerer and a \n",
            "team builder, who has worked with Amazon, Yahoo, \n",
            "and co-founded Applied Roots.\n",
            "Mohit Uniyal\n",
            "Co-founder, , Mentor - ,\n",
            "Mohit is the co-founder of 2 ed-tech startups dedicated \n",
            "to competitive coding preparation. He began his \n",
            "mentoring journey as a Mentor@TensorFlow at Google \n",
            "Code-in. An ex-instructor and Product Engineer at \n",
            "Coding Blocks, he has extensive teaching experience. \n",
            "Currently, he is a Data Scientist at Coding Minutes.\n",
            "Harshit Tyagi\n",
            "Ex-Data Engineer,                    , Instructor -\n",
            "Harshit is a Lead Instructor (Data Science & Machine \n",
            "Learning) at Scaler Data Science. He is the creator of \n",
            "bestselling Data Science & Engineering courses at \n",
            "LinkedIn Learning, OpenClassrooms, Manning, and \n",
            "O'Reilly Media. An ex-Data Engineer at Elucidata, he \n",
            "created biomedical apps for Research Scientists at \n",
            "Yale, UCLA, and MIT.\n",
            "09\n",
            "MEET YOUR\n",
            "INSTRUCTORS\n",
            "Suraaj Hasija\n",
            "Ex Sr. Data Scientist , \n",
            "He leads Data Science Business Cases at Scaler Data \n",
            "Science. Working as a Data Scientist 2 at MasterCard, \n",
            "he has transformed industry insights into actionable \n",
            "success for the business. Responsible for building \n",
            "International Market Pricing Strategy, he leads some \n",
            "of the exemplary large-scale Data Science projects \n",
            "within MasterCard.\n",
            "Prateek Narang\n",
            "Ex-Software Engineer, \n",
            "An ex-Googler, Prateek is the co-founder of 2 ed-tech \n",
            "startups dedicated to competitive coding preparation. \n",
            "He has completed his MS in Machine Learning from IIT \n",
            "Delhi. Also, he is a popular Udemy Instructor, teaching \n",
            "coding to 75K+ students. Currently, Prateek is an \n",
            "Instructor and the Engineering Lead at Scaler.\n",
            "Anshuman Singh\n",
            "Co-Founder,               , Ex - \n",
            "He is the co-founder of Scaler Academy and a \n",
            "two-time ACM ICPC world ﬁnalist. He was one of the \n",
            "founding team members of Facebook Messenger \n",
            "and worked directly with Mark Zuckerberg on \n",
            "product development.\n",
            "10\n",
            "WHO ARE THE\n",
            "MENTORS\n",
            "PERSONALISE YOUR EXPERIENCE\n",
            "WITH 1:1 MENTORSHIP\n",
            "Get clarity on your career path and tackle every stage of your \n",
            "Upskilling journey with 1:1 guidance twice a month. Our mentors \n",
            "will help you with your queries, give interview insights, provide \n",
            "placement assistance and make sure you’re on the right track.\n",
            "Sahil Chelaramani Girijesh Prasad\n",
            "Data Scientist,   Senior Manager, Data \n",
            "Science,                  \n",
            "He has worked on Bing Search and  He has extensive experience in delivering \n",
            "Azure Global Development teams. He  end-to-end Data Science solutions - from \n",
            "has experience in building large Deep  infrastructure to models. He can also \n",
            "Learning projects and robust Data  share his experience about management \n",
            "Science systems. and business.\n",
            "Rajeev Baditha Hitesh Hinduja\n",
            "Data Scientist, Senior Manager, Artiﬁcial \n",
            "Intelligence, \n",
            "He has theoretical as well as hands-on  He is passionate about cutting-edge \n",
            "knowledge of Data Science, and has  research. He also leads a team of 20 to \n",
            "worked at Walmart and Fractal  deliver the best electric vehicles, while \n",
            "Analytics. He has a Master’s degree  leveraging end-to-end Machine \n",
            "from Indian Statistical Institute. Learning pipelines.\n",
            "11\n",
            "THE ADVISORY\n",
            "COMMITTEE\n",
            "ADVISORY BOARD:\n",
            "CORNERSTONE OF SCALER DATA SCIENCE\n",
            "How exciting it’d be for you to work on business problems that \n",
            "come directly from your dream companies? It’ll give you a good \n",
            "analysis of the (Data Science) pitch before you go about hitting a \n",
            "home run in your career. \n",
            "Our Advisory Committee consists of DS professionals who give us a \n",
            "good peek into the industry insights to help us craft about 80 \n",
            "business case studies. Take a look at our industry advisors who \n",
            "help us (and you!) to be better than before. \n",
            "Pawan Kumar Ramit Sawhney\n",
            "Head of Data Science,\n",
            "Ex - \n",
            "Pawan is an experienced Data Scientist  A seasoned software engineer, Ramit is \n",
            "with a strong product sense and an  a globally published and recognised \n",
            "innate ability to communicate complex  researcher at IIIT-Delhi, Georgia Institute \n",
            "insights clearly. He has been leading and  of Technology, the AI Institute at \n",
            "spearheading the Data Science divisions  University of Southern Carolina, and \n",
            "at Uber and LinkedIn. Open Source Maintainer at AnitaB.org\n",
            "He has been empanelled as the \n",
            "He has been empanelled as an advisor for \n",
            "research advisor for the Scaler Data \n",
            "the Scaler Data Science Program.\n",
            "Science Program.\n",
            "12\n",
            "SCALER SUPPORT\n",
            "& NETWORK\n",
            "AMP UP YOUR CAREER \n",
            "With the right support & career guidance, your Skills can have a \n",
            "real-world impact. We’ll push your limits & prepare you to be the \n",
            "player of your (Career) Innings.\n",
            "Access job Optimise your resume,\n",
            "opportunities from LinkedIn Proﬁle & get\n",
            "600+ Partner the needed Placement\n",
            "Employers assistance \n",
            "Practice mock Connect &\n",
            "interviews collaborate with\n",
            "with Industry 20K+ Scaler\n",
            "Ninjas learers and alumni \n",
            "Our Alumni are at reputed Tech Companies & promising Startups\n",
            "13\n",
            "FEE\n",
            "STRUCTURE \n",
            "Total Tuition Fee \n",
            "(Inclusive of GST)\n",
            "INR 2.99L\n",
            "Our payment plans include multiple easy ﬁnancing options \n",
            "that make Scaler accessible to everyone. With our affordable \n",
            "solutions, your investment can be as low as   \n",
            "INR 9,811 per month\n",
            "- it looks like your monthly grocery bill, doesn’t it? \n",
            "We also offer a 2 weeks trial period and a money-back \n",
            "guarantee if you choose to drop out of the course.\n",
            "3 Easy Steps to Enrol\n",
            "Easy Registration Quick Evaluation Start Upskilling\n",
            "Make a new account  Take a simple 30 min  Start your learning \n",
            "on www.scaler.com or  MCQ test focused on  journey and get set \n",
            "login using social  aptitude and basic  to scale greater \n",
            "media / InterviewBit  coding to ﬁnd the  professional heights \n",
            "account right course for you in the Data Science \n",
            "arena\n",
            "14\n",
            "CURRICULUM\n",
            "DEEP DIVE\n",
            "CURRICULUM THAT COMPLEMENTS\n",
            "YOUR CAREER\n",
            "The Curriculum is crafted to make you a dynamic Data Scientist. \n",
            "We want to prepare you to tackle the toughest challenges a Data \n",
            "Scientist or ML Engineer can face in their journey. It’s time you \n",
            "cover-drive the ball (your skills) that it hits the boundary of your \n",
            "dream career!\n",
            "Note: Listed below is the Advanced section\n",
            "S C A L E R\n",
            "ADVANTAGE i.e. the Data Science Core\n",
            "01 Python for Data Science\n",
            "TOPICS COVERED\n",
            "Numpy, Pandas, Data Visualization using Matplotlib and Seaborn, Regular \n",
            "Expressions/Pattern Matching.\n",
            "S C A L E R\n",
            "ADVANTAGE\n",
            "Prior know-how of Python is not a mandate. You’ll \n",
            "cover essential tools like Git. \n",
            "Solve complex business problems using Numpy & \n",
            "Pandas.\n",
            "15\n",
            "CURRICULUM\n",
            "DEEP DIVE\n",
            "Probability & Statistics\n",
            "02\n",
            "TOPICS COVERED\n",
            "Probability Theory and Descriptive Statistics :\n",
            "Combinatorics, Mean, Median, Mode, Percentile, IQR, Outlier, Marginal \n",
            "Probability, Joint Probability, Conditional Probability, Bayes Theorem\n",
            "Probability Distributions :\n",
            "PDF, PMF, CDF, PPF, Uniform Distribution, Bernoulli Distribution, Multinomial \n",
            "Distribution, Gaussian/Normal Distribution, Poisson Gaussian, Exponential \n",
            "Distribution, Geometric Distribution, Log-normal distribution, Pareto/Power \n",
            "Law Distribution\n",
            "Inferential Statistics :\n",
            "Conﬁdence Interval Estimates, Central Limit Theorem\n",
            "S C A L E R\n",
            "ADVANTAGE\n",
            "From Emergency Call Centre to Casino of Las Vegas - \n",
            "Experience Probability & Statistics with a fresh \n",
            "perspective.\n",
            "Maths Refresher for Data Science\n",
            "03\n",
            "TOPICS COVERED\n",
            "Coordinate Geometry, Linear Algebra, Linear Programming, Optimisation Basics, \n",
            "Estimation Problems\n",
            "S C A L E R\n",
            "ADVANTAGE\n",
            "Solidify your fundamentals & fall in love with \n",
            "Mathematics as you solve engaging problems - from \n",
            "Drone Delivery to Soccer Matches\n",
            "16\n",
            "CURRICULUM\n",
            "DEEP DIVE\n",
            "Data Acquisition &\n",
            "04\n",
            "Unstructured Data\n",
            "TOPICS COVERED\n",
            "Databases and SQL : Relational, Non-relational, Entity-Relationship diagrams,\n",
            "SQL Commands, Aggregate Functions, Joins, SubQueries, Normalisation,\n",
            "Scaling patterns, ACID, Dask SQL, Cloud SQL (Athena/BigQuery), Web API,\n",
            "Data Cleaning.\n",
            "Unstructured Data : OpenCV, Image processing, Smoothening, Morphological\n",
            "Operations, NLTK, Text processing.\n",
            "S C A L E R\n",
            "ADVANTAGE\n",
            "Learn how to extract data from various sources (cloud \n",
            "or local) & work with data in different formats (Tables, \n",
            "Files, Images, Audio, Video, Text)\n",
            "Build a crawler to scrape websites & deploy web apps\n",
            "Applied Data Science\n",
            "05\n",
            "TOPICS COVERED\n",
            "Hypothesis Testing, Parametric vs non-parametric tests, Z-test, Chi-square test, \n",
            "Skewness, Kurtosis, Normality test, Experiment Design, ANOVA, Simulations, \n",
            "Power of Test, A/B testing, Diff n Diff Analysis, Multi-arm bandit testing, EDA, \n",
            "Multi-dimensional/multi-variate analysis, Covariance, Correlation, Pearson, \n",
            "Spearman Rank, Feature Engineering, Column normalisation, Standardisation, \n",
            "Missing Values, Outlier treatment.\n",
            "S C A L E R\n",
            "ADVANTAGE\n",
            "Say Hello to the latest & advanced techniques used by \n",
            "unicorns to conduct experiments & analysis of results.\n",
            "17\n",
            "CURRICULUM\n",
            "DEEP DIVE\n",
            "Data Visualisation with Tableau\n",
            "06\n",
            "TOPICS COVERED\n",
            "Managing Data Sources and Visualizations, Analyzing Data Using \n",
            "Statistical Tools, Creating Basic Charts, Dashboards & Actions\n",
            "S C A L E R\n",
            "ADVANTAGE\n",
            "Get the hang of the predominant industry tool- \n",
            "Tableau - for visualising, dashboarding & reporting to \n",
            "ace your role as a Data Analyst, Data Scientist or ML \n",
            "Engineer.\n",
            "Product, Strategy, Business\n",
            "07\n",
            "TOPICS COVERED\n",
            "Metric Design, Decode Product and Strategy Rounds, Domain Knowledge - \n",
            "Banking, Finance, Marketing, Social Media, Operations, Healthcare, Experiment \n",
            "Design Advanced \n",
            "S C A L E R\n",
            "ADVANTAGE\n",
            "Outshine your Problem-Solving as you learn to break \n",
            "down business situations, design correct metrics & deal \n",
            "with uncertainty.\n",
            "18\n",
            "CURRICULUM\n",
            "DEEP DIVE\n",
            "Specialisation 1\n",
            "Data Science & Analytics \n",
            "TOPICS COVERED\n",
            "ANALYTICS\n",
            "01\n",
            "Advanced Tableau : Mapping Geographic Data, Using stories\n",
            "to build dashboards, Working with Time and Dates, Creating Conditional\n",
            "Calculations Using Logical Functions, Creating Level of Detail (LOD) Expressions,\n",
            "Summarizing Data Using Table Calculations, Managing Text Strings.\n",
            "  \n",
            "Advanced  SQL : Nested Queries, String Functions & Pattern Matching,\n",
            "Mathematical Functions, Date-Time Functions.\n",
            "Excel : Basic EXCEL Formulas & Functions, Text, Time and Dates Data Formats,\n",
            "Pivot Table, Statistics in EXCEL, Data Handling in EXCEL, Charts in Excel.\n",
            "R- Programming : Creating objects, Matrices, Loops, Functions in R, Data\n",
            "Manipulation in R, Creating frequency tables and crosstables, Building charts,\n",
            "Performing univariate analysis, Working with dates and time in R, Dplyr, GGplot.\n",
            "Power BI : Data & Relationship View, Connecting Different Data sources,\n",
            "Data Modelling, Time Series, Aggregation and Filters, Maps, Plotting Techniques,\n",
            "Tables and Relationships, Creating an Interactive Business Intelligence Report. \n",
            "MACHINE LEARNING\n",
            "02\n",
            "Supervised Machine Learning : KNN, Linear Regression, Logistic Regression,\n",
            "Decision Trees, Feature importance, ML Metrics.  \n",
            "Unsupervised Machine Learning : Dimensionality Reduction & Visualization,\n",
            "Anomaly Detection, K-Means, PCA, t-SNE.\n",
            "Miscellaneous Machine Learning Topics : Text and Image vectorization using\n",
            "Deep-Learning, Interpretable ML, ML Life Cycle, NLP Concepts.\n",
            "19\n",
            "06\n",
            "CURRICULUM\n",
            "DEEP DIVE\n",
            "Time Series Forecasting : Resampling, Autocorrelation, Forecasting, Seasonal\n",
            "Naive, Double/Triple Exponential (Holt) Residual Analysis, Stationarity tests,\n",
            "Autoregressive methods, moving averages, ARIMA, SARIMA.\n",
            "03 BUSINESS AWARENESS\n",
            "Design of Survey, Metric Design, Big Data Frameworks, Business Case-studies\n",
            "Risk, Product, Banking, Finance, E-Commerce, Social Media, Marketing,\n",
            "Transporation, Healthcare, Operations.\n",
            "S C A L E R\n",
            "ADVANTAGE\n",
            "From Python & R to Tableau & Power BI - you’ll get to \n",
            "grips with everything that is industry-relevant. \n",
            "Become a power-user of tools like MS Excel & master \n",
            "advanced SQL. \n",
            "Dive deeper into complex business cases & gain \n",
            "insights into domain-speciﬁc techniques.\n",
            "Specialisation 2\n",
            "Data Science & Machine Learning Ops         \n",
            "TOPICS COVERED\n",
            "01 ESSENTIAL MATHS FOR MACHINE LEARNING\n",
            "Linear Algebra : Mapping Geographic Data, Using stories to build dashboards,\n",
            "Working with Time and Dates, Creating Conditional Calculations Using Logical\n",
            "Functions, Creating Level of Detail (LOD) Expressions, Summarizing Data Using\n",
            "Table Calculations, Managing Text Strings.\n",
            "  \n",
            "20\n",
            "CURRICULUM\n",
            "DEEP DIVE\n",
            "Coordinate Geometry : Line, Plane, HyperPlane, Half space, Classiﬁcation\n",
            "using plane.\n",
            "Calculus : Functions, Limits, Derivatives, Partial derivatives, Saddle points.\n",
            "02 SUPERVISED LEARNING\n",
            "Linear Regression, Gradient Descent, Multicollinearity, VIF, R-square,\n",
            "Heteroscedasticity, Polynomial Regression, Bias-Variance trade-off,\n",
            "Regularisation, Logistic Regression, Squashing function, AUC, ROC,\n",
            "Precision-Recall Curve, Confusion matrix, Speciﬁcity, KNN, Decision Trees,\n",
            "Ensemble learning, Bagging, Boosting, SHAP Values, Support Vector Machine,\n",
            "Bayesian Machine Learning, Sklearn.\n",
            "03 UNSUPERVISED LEARNING\n",
            "KMeans, Customer Segmentation, Hierarchical clustering, DBSCAN, Anomaly\n",
            "Detection, Local Outlier Factor, Isolation Forest, Dimensionality Reduction,\n",
            "PCA, t-SNE, GMM, Information Theory, Expectation Maximisation.\n",
            "04 RECOMMENDER SYSTEMS\n",
            "Collaborative/Content ﬁltering, Propensity analysis, Cold start problem\n",
            "PREDICTIVE MODELING & TIME SERIES\n",
            "05\n",
            "FORECASTING\n",
            "EDA, Resampling, Autocorrelation, Forecasting, Seasonal Naive, Double/Triple\n",
            "Exponential (Holt) Residual Analysis, Stationarity tests, Autoregressive methods,\n",
            "moving averages, ARIMA, SARIMA, Garch.\n",
            "21\n",
            "CURRICULUM\n",
            "DEEP DIVE\n",
            "06 DEEP LEARNING\n",
            "Neural Networks : MLP, Backpropagation, Hyperparameter Tuning, Practical\n",
            "Aspects of DL, Keras, Tensorﬂow, Pytorch.\n",
            "Computer Vision : Convolutional Neural Nets, Data Augmentation, Transfer\n",
            "Learning, CNN Visualisation, Popular CNN Architecture - Alexnet, VGG, ResNet,\n",
            "Inception, DenseNet, EfﬁcientNet, MobileNet, Object Segmentation, Localisation\n",
            "and Detection, Generative Models, VAEs, GANs, Attention Models, Siamese\n",
            "Networks, Advanced CV.\n",
            "Natural Language Processing : Text Processing and representation - Tokenization,\n",
            "Stemming, Lemmatization, Vector space modelling, Cosine Similarity, Euclidean\n",
            "Distance, POS tagging, Dependency parsing, Topic Modeling, Language Modeling\n",
            "Embeddings, Recurrent Neural Nets, Information Extraction, Entity Recognition,\n",
            "Transformers, BERT, Building Chatbots.\n",
            "Reinforcement Learning and Forecasting : Reinforcement Learning, Q-learning,\n",
            "Autonomous players, RNNs and LSTMs for forecasting.\n",
            "ML OPS AND DATA ENGINEERING\n",
            "07\n",
            "ML Ops : Project scoping, Experiment tracking using MLFlow/W&B, API\n",
            "(Flask/FastAPI), Streamlit, Testing, Versioning, Docker, CI/CD pipelines,\n",
            "AWS lambda, Monitoring using AWS Kibana, Drift\n",
            "ETL Pipeline\n",
            "Big Data and Distributed Systems : Hadoop, Map-reduce, Spark, PySpark,\n",
            "SparkSQL, Spark ML, Orchestration using Airﬂow, Serving using Flask.\n",
            "Data Governance : Data Quality, Data Dictionary, Data Access Management,\n",
            "Data storage and recovery procedure, Handling stereotypes and\n",
            "Social biases in data.\n",
            "22\n",
            "CURRICULUM\n",
            "DEEP DIVE\n",
            "Cloud Computing : Need for Cloud, What is Cloud Computing,ML on cloud,\n",
            "Key cloud services providers AWS, Microsoft Azure and Google Cloud\n",
            "Platform(GCP),Key Cloud Services, Challenges in Cloud Adoption, Sagemaker\n",
            "on AWS, Vertex AI on GCP,Data Science studio on Azure, Case Studies.\n",
            "S C A L E R\n",
            "ADVANTAGE\n",
            "Get hands-on with real-world’s unclean data as you \n",
            "work on projects built in partnerships with top \n",
            "companies.\n",
            "23\n",
            "k\n",
            "n\n",
            "u\n",
            "a\n",
            "ho\n",
            "Y\n",
            "T\n",
            "#CreateImpact\n",
            "WWW.SCALER.COM\n"
          ]
        }
      ]
    },
    {
      "cell_type": "code",
      "source": [
        "# appending text to the random variable"
      ],
      "metadata": {
        "id": "nmSG13BeoYNA"
      },
      "execution_count": null,
      "outputs": []
    },
    {
      "cell_type": "code",
      "source": [
        "# Tables extraction "
      ],
      "metadata": {
        "id": "444_bjo-ofF2"
      },
      "execution_count": null,
      "outputs": []
    },
    {
      "cell_type": "code",
      "source": [
        "for i in brochure_data.pages:\n",
        "  print(i.extract_tables())"
      ],
      "metadata": {
        "colab": {
          "base_uri": "https://localhost:8080/"
        },
        "id": "0S0jBtSZofJn",
        "outputId": "1c3e966a-7147-457c-9c43-69fcd0035726"
      },
      "execution_count": null,
      "outputs": [
        {
          "output_type": "stream",
          "name": "stdout",
          "text": [
            "[]\n",
            "[]\n",
            "[]\n",
            "[]\n",
            "[]\n",
            "[]\n",
            "[]\n",
            "[[['TOPIC', 'TOTAL LECTURES', 'TOTAL DURATION'], ['Beginner Programming', '12', '4 Weeks (1 Month)'], ['Intermediate Programming', '12', '4 Weeks (1 Month)'], ['Common Core for DSML', '42', '14 Weeks (3.5 Months)']], [['TOPIC', 'TOTAL LECTURES', 'TOTAL DURATION'], ['Data Science & Analytics', '43', '14 Weeks (3.5 Months)'], ['(OR)\\nData Science & Machine Learning', '62', '21 Weeks (5 Months)'], ['Advanced Programming (OPTIONAL)', '35', '12 Weeks (3 Months)']], [[''], ['(OR)']]]\n",
            "[]\n",
            "[]\n",
            "[]\n",
            "[[['', ''], ['', '']]]\n",
            "[]\n",
            "[]\n",
            "[]\n",
            "[]\n",
            "[]\n",
            "[]\n",
            "[]\n",
            "[]\n",
            "[]\n",
            "[]\n",
            "[]\n",
            "[]\n",
            "[]\n"
          ]
        }
      ]
    },
    {
      "cell_type": "code",
      "source": [
        "data_pages = brochure_data.pages"
      ],
      "metadata": {
        "id": "Uq-sP9nOqwYJ"
      },
      "execution_count": null,
      "outputs": []
    },
    {
      "cell_type": "code",
      "source": [
        "data_pages"
      ],
      "metadata": {
        "colab": {
          "base_uri": "https://localhost:8080/"
        },
        "id": "-jDnifggq5WP",
        "outputId": "4b00b54c-0651-4578-9493-6b16c0ebe4ec"
      },
      "execution_count": null,
      "outputs": [
        {
          "output_type": "execute_result",
          "data": {
            "text/plain": [
              "[<Page:1>,\n",
              " <Page:2>,\n",
              " <Page:3>,\n",
              " <Page:4>,\n",
              " <Page:5>,\n",
              " <Page:6>,\n",
              " <Page:7>,\n",
              " <Page:8>,\n",
              " <Page:9>,\n",
              " <Page:10>,\n",
              " <Page:11>,\n",
              " <Page:12>,\n",
              " <Page:13>,\n",
              " <Page:14>,\n",
              " <Page:15>,\n",
              " <Page:16>,\n",
              " <Page:17>,\n",
              " <Page:18>,\n",
              " <Page:19>,\n",
              " <Page:20>,\n",
              " <Page:21>,\n",
              " <Page:22>,\n",
              " <Page:23>,\n",
              " <Page:24>,\n",
              " <Page:25>]"
            ]
          },
          "metadata": {},
          "execution_count": 14
        }
      ]
    },
    {
      "cell_type": "code",
      "source": [
        "tables_data = data_pages[7].extract_tables()"
      ],
      "metadata": {
        "id": "tm1I07CTofMH"
      },
      "execution_count": null,
      "outputs": []
    },
    {
      "cell_type": "code",
      "source": [
        "tables_data"
      ],
      "metadata": {
        "colab": {
          "base_uri": "https://localhost:8080/"
        },
        "id": "E_ah-kgSofOS",
        "outputId": "535b0bac-853b-4080-9f09-3e002bb24d55"
      },
      "execution_count": null,
      "outputs": [
        {
          "output_type": "execute_result",
          "data": {
            "text/plain": [
              "[[['TOPIC', 'TOTAL LECTURES', 'TOTAL DURATION'],\n",
              "  ['Beginner Programming', '12', '4 Weeks (1 Month)'],\n",
              "  ['Intermediate Programming', '12', '4 Weeks (1 Month)'],\n",
              "  ['Common Core for DSML', '42', '14 Weeks (3.5 Months)']],\n",
              " [['TOPIC', 'TOTAL LECTURES', 'TOTAL DURATION'],\n",
              "  ['Data Science & Analytics', '43', '14 Weeks (3.5 Months)'],\n",
              "  ['(OR)\\nData Science & Machine Learning', '62', '21 Weeks (5 Months)'],\n",
              "  ['Advanced Programming (OPTIONAL)', '35', '12 Weeks (3 Months)']],\n",
              " [[''], ['(OR)']]]"
            ]
          },
          "metadata": {},
          "execution_count": 38
        }
      ]
    },
    {
      "cell_type": "code",
      "source": [
        "# Images extraction."
      ],
      "metadata": {
        "id": "orY4UwZGofQs"
      },
      "execution_count": null,
      "outputs": []
    },
    {
      "cell_type": "code",
      "source": [
        "!pip install PyMuPDF pillow"
      ],
      "metadata": {
        "colab": {
          "base_uri": "https://localhost:8080/"
        },
        "id": "MagWfucfro7x",
        "outputId": "3fe3432e-b69c-43c8-e50a-df24caf7e2c2"
      },
      "execution_count": null,
      "outputs": [
        {
          "output_type": "stream",
          "name": "stdout",
          "text": [
            "Looking in indexes: https://pypi.org/simple, https://us-python.pkg.dev/colab-wheels/public/simple/\n",
            "Collecting PyMuPDF\n",
            "  Downloading PyMuPDF-1.20.2-cp37-cp37m-manylinux_2_17_x86_64.manylinux2014_x86_64.whl (8.8 MB)\n",
            "\u001b[K     |████████████████████████████████| 8.8 MB 4.1 MB/s \n",
            "\u001b[?25hRequirement already satisfied: pillow in /usr/local/lib/python3.7/dist-packages (9.3.0)\n",
            "Installing collected packages: PyMuPDF\n",
            "Successfully installed PyMuPDF-1.20.2\n"
          ]
        }
      ]
    },
    {
      "cell_type": "code",
      "source": [
        "pip install pillow"
      ],
      "metadata": {
        "colab": {
          "base_uri": "https://localhost:8080/"
        },
        "id": "8COJz7WDrpLG",
        "outputId": "f4d7baea-742d-4c5e-90d3-38d74123f095"
      },
      "execution_count": null,
      "outputs": [
        {
          "output_type": "stream",
          "name": "stdout",
          "text": [
            "Looking in indexes: https://pypi.org/simple, https://us-python.pkg.dev/colab-wheels/public/simple/\n",
            "Requirement already satisfied: pillow in /usr/local/lib/python3.7/dist-packages (9.3.0)\n"
          ]
        }
      ]
    },
    {
      "cell_type": "code",
      "source": [
        "import fitz\n",
        "from PIL import Image\n",
        "import io"
      ],
      "metadata": {
        "id": "lkhChQCnsA3h"
      },
      "execution_count": null,
      "outputs": []
    },
    {
      "cell_type": "code",
      "source": [
        "pdf_file = fitz.open(\"/content/DSML-Brochure-Scaler.pdf\")"
      ],
      "metadata": {
        "id": "tjQ3vleGsQJJ"
      },
      "execution_count": null,
      "outputs": []
    },
    {
      "cell_type": "code",
      "source": [
        "# Iterate over all the pdf files pages\n",
        "for pages_index in range (len(pdf_file)):\n",
        "    # Assigning a variable \"page\" to page of pdf.\n",
        "    page = pdf_file[pages_index]\n",
        "    # Get the image list\n",
        "    image_list = page.get_images()\n",
        "    # Iterating over the image list.\n",
        "    for image_index , img in enumerate(image_list):\n",
        "        xref = img[0]\n",
        "          \n",
        "        # extract the image bytes\n",
        "        base_image = pdf_file.extract_image(xref)\n",
        "        image_bytes = base_image[\"image\"]\n",
        "          \n",
        "        # get the image extension\n",
        "        image_ext = base_image[\"ext\"]\n",
        "        # Load it to PIL\n",
        "        image = Image.open(io.BytesIO(image_bytes))\n",
        "        # Save the images to directory (\"wb\" write bytes i.e write images as bytes to directory)\n",
        "        image.save(open(f\"image{pages_index+1}_{image_index}.{image_ext}\", \"wb\")) "
      ],
      "metadata": {
        "id": "yixxzVdfofTP"
      },
      "execution_count": null,
      "outputs": []
    },
    {
      "cell_type": "code",
      "source": [
        "# Finding all the similar words/having same meaning of a target word."
      ],
      "metadata": {
        "id": "eUv8LhKMrCay"
      },
      "execution_count": null,
      "outputs": []
    },
    {
      "cell_type": "code",
      "source": [
        "!pip install nltk"
      ],
      "metadata": {
        "colab": {
          "base_uri": "https://localhost:8080/"
        },
        "id": "70CNVTiE6Zf9",
        "outputId": "7568b978-f375-4205-cc1b-2fb0b759d87b"
      },
      "execution_count": null,
      "outputs": [
        {
          "output_type": "stream",
          "name": "stdout",
          "text": [
            "Looking in indexes: https://pypi.org/simple, https://us-python.pkg.dev/colab-wheels/public/simple/\n",
            "Requirement already satisfied: nltk in /usr/local/lib/python3.7/dist-packages (3.7)\n",
            "Requirement already satisfied: click in /usr/local/lib/python3.7/dist-packages (from nltk) (7.1.2)\n",
            "Requirement already satisfied: joblib in /usr/local/lib/python3.7/dist-packages (from nltk) (1.2.0)\n",
            "Requirement already satisfied: tqdm in /usr/local/lib/python3.7/dist-packages (from nltk) (4.64.1)\n",
            "Requirement already satisfied: regex>=2021.8.3 in /usr/local/lib/python3.7/dist-packages (from nltk) (2022.6.2)\n"
          ]
        }
      ]
    },
    {
      "cell_type": "code",
      "source": [
        "import nltk\n",
        "nltk.download('wordnet')\n",
        "nltk.download('omw-1.4')\n",
        "from nltk.corpus import wordnet"
      ],
      "metadata": {
        "colab": {
          "base_uri": "https://localhost:8080/"
        },
        "id": "fF3QnY_8rCiO",
        "outputId": "1b3b2088-3331-492f-b572-ca12608c1c53"
      },
      "execution_count": null,
      "outputs": [
        {
          "output_type": "stream",
          "name": "stderr",
          "text": [
            "[nltk_data] Downloading package wordnet to /root/nltk_data...\n",
            "[nltk_data] Downloading package omw-1.4 to /root/nltk_data...\n"
          ]
        }
      ]
    },
    {
      "cell_type": "code",
      "source": [
        "syn = wordnet.synsets(\"mountain\")"
      ],
      "metadata": {
        "id": "wZiQMzbQrCpN"
      },
      "execution_count": null,
      "outputs": []
    },
    {
      "cell_type": "code",
      "source": [
        "print(syn)"
      ],
      "metadata": {
        "colab": {
          "base_uri": "https://localhost:8080/"
        },
        "id": "eTy0jkp9rCut",
        "outputId": "e9468edf-4627-43de-bd79-73d1d237b7c6"
      },
      "execution_count": null,
      "outputs": [
        {
          "output_type": "stream",
          "name": "stdout",
          "text": [
            "[Synset('mountain.n.01'), Synset('batch.n.02')]\n"
          ]
        }
      ]
    },
    {
      "cell_type": "code",
      "source": [
        "print(syn[0].definition())"
      ],
      "metadata": {
        "colab": {
          "base_uri": "https://localhost:8080/"
        },
        "id": "P-JW-7jXrC0n",
        "outputId": "145c8124-bfc1-4811-b63a-100ef7e63ddf"
      },
      "execution_count": null,
      "outputs": [
        {
          "output_type": "stream",
          "name": "stdout",
          "text": [
            "a land mass that projects well above its surroundings; higher than a hill\n"
          ]
        }
      ]
    },
    {
      "cell_type": "code",
      "source": [
        "synonyms = []\n",
        "for syn in wordnet.synsets(\"mountain\"):\n",
        "  for lemma in syn.lemmas():\n",
        "    synonyms.append(lemma.name())\n",
        "print(synonyms)"
      ],
      "metadata": {
        "colab": {
          "base_uri": "https://localhost:8080/"
        },
        "id": "KwaOjnO6rC57",
        "outputId": "34d13c65-e47b-440a-82ef-fba9fcfd3d13"
      },
      "execution_count": null,
      "outputs": [
        {
          "output_type": "stream",
          "name": "stdout",
          "text": [
            "['mountain', 'mount', 'batch', 'deal', 'flock', 'good_deal', 'great_deal', 'hatful', 'heap', 'lot', 'mass', 'mess', 'mickle', 'mint', 'mountain', 'muckle', 'passel', 'peck', 'pile', 'plenty', 'pot', 'quite_a_little', 'raft', 'sight', 'slew', 'spate', 'stack', 'tidy_sum', 'wad']\n"
          ]
        }
      ]
    },
    {
      "cell_type": "code",
      "source": [
        "target = \"career\""
      ],
      "metadata": {
        "id": "Mh2QF5x_7GeD"
      },
      "execution_count": null,
      "outputs": []
    },
    {
      "cell_type": "code",
      "source": [],
      "metadata": {
        "id": "8H3-kwpI3Emg"
      },
      "execution_count": null,
      "outputs": []
    },
    {
      "cell_type": "code",
      "source": [],
      "metadata": {
        "id": "xg6yh0NF3Eox"
      },
      "execution_count": null,
      "outputs": []
    },
    {
      "cell_type": "code",
      "source": [],
      "metadata": {
        "id": "qIr8qTNj3ErE"
      },
      "execution_count": null,
      "outputs": []
    },
    {
      "cell_type": "code",
      "source": [],
      "metadata": {
        "id": "JjAzV03U3EtW"
      },
      "execution_count": null,
      "outputs": []
    },
    {
      "cell_type": "code",
      "source": [],
      "metadata": {
        "id": "ngU8YLy13Evv"
      },
      "execution_count": null,
      "outputs": []
    },
    {
      "cell_type": "code",
      "source": [],
      "metadata": {
        "id": "MX_ta5Fc3EzS"
      },
      "execution_count": null,
      "outputs": []
    },
    {
      "cell_type": "code",
      "source": [],
      "metadata": {
        "id": "9WDyMDIB7GmY"
      },
      "execution_count": null,
      "outputs": []
    }
  ]
}